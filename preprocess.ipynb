{
 "cells": [
  {
   "cell_type": "markdown",
   "metadata": {},
   "source": [
    "# 0. Import & Raw 데이터 불러오기"
   ]
  },
  {
   "cell_type": "code",
   "execution_count": 1,
   "metadata": {
    "id": "2536ndIxYAIz"
   },
   "outputs": [],
   "source": [
    "import numpy as np\n",
    "import pandas as pd\n",
    "import os\n",
    "\n",
    "import time\n",
    "from datetime import timedelta\n",
    "from tqdm import tqdm\n",
    "\n",
    "import matplotlib.pyplot as plt\n",
    "import seaborn as sns"
   ]
  },
  {
   "cell_type": "code",
   "execution_count": 2,
   "metadata": {
    "id": "wyUKhrKnYwyT"
   },
   "outputs": [],
   "source": [
    "# 최초 raw 로그 데이터 불러오기\n",
    "raw = pd.read_csv(os.path.join(os.getcwd(),'log_211201_220301.csv'))"
   ]
  },
  {
   "cell_type": "code",
   "execution_count": 3,
   "metadata": {},
   "outputs": [
    {
     "data": {
      "text/plain": [
       "(5948704, 7)"
      ]
     },
     "execution_count": 3,
     "metadata": {},
     "output_type": "execute_result"
    }
   ],
   "source": [
    "raw.shape"
   ]
  },
  {
   "cell_type": "code",
   "execution_count": 4,
   "metadata": {
    "colab": {
     "base_uri": "https://localhost:8080/",
     "height": 337
    },
    "id": "CRBBJTvPY3eV",
    "outputId": "745b3055-d877-4104-d6a5-06b4d7fb818c"
   },
   "outputs": [
    {
     "data": {
      "text/html": [
       "<div>\n",
       "<style scoped>\n",
       "    .dataframe tbody tr th:only-of-type {\n",
       "        vertical-align: middle;\n",
       "    }\n",
       "\n",
       "    .dataframe tbody tr th {\n",
       "        vertical-align: top;\n",
       "    }\n",
       "\n",
       "    .dataframe thead th {\n",
       "        text-align: right;\n",
       "    }\n",
       "</style>\n",
       "<table border=\"1\" class=\"dataframe\">\n",
       "  <thead>\n",
       "    <tr style=\"text-align: right;\">\n",
       "      <th></th>\n",
       "      <th>datetime</th>\n",
       "      <th>user_id</th>\n",
       "      <th>sex</th>\n",
       "      <th>age</th>\n",
       "      <th>page</th>\n",
       "      <th>url</th>\n",
       "      <th>device</th>\n",
       "    </tr>\n",
       "  </thead>\n",
       "  <tbody>\n",
       "    <tr>\n",
       "      <th>0</th>\n",
       "      <td>2022-01-05 00:00:01</td>\n",
       "      <td>U11007</td>\n",
       "      <td>F</td>\n",
       "      <td>36</td>\n",
       "      <td>NHN/한국/네이버/모바일_웹/모바일메인/쇼핑판E/미시판(구)/웹</td>\n",
       "      <td>https://m.naver.com/</td>\n",
       "      <td>Mozilla/5.0 (iPhone; CPU iPhone OS 14_8_1 like...</td>\n",
       "    </tr>\n",
       "    <tr>\n",
       "      <th>1</th>\n",
       "      <td>2022-01-05 00:00:02</td>\n",
       "      <td>U14212</td>\n",
       "      <td>M</td>\n",
       "      <td>44</td>\n",
       "      <td>NHN/한국/네이버/모바일_웹/모바일_쇼핑/모바일_스마트스토어/상품상세/상품상세</td>\n",
       "      <td>https://m.smartstore.naver.com/campingrecipe/p...</td>\n",
       "      <td>Mozilla/5.0 (Linux; Android 11; SM-G970N Build...</td>\n",
       "    </tr>\n",
       "    <tr>\n",
       "      <th>2</th>\n",
       "      <td>2022-01-05 00:00:03</td>\n",
       "      <td>U14108</td>\n",
       "      <td>M</td>\n",
       "      <td>44</td>\n",
       "      <td>NHN/한국/네이버/모바일_웹/모바일_쇼핑/쇼핑윈도/장보기/브랜드장보기/상품상세/상품상세</td>\n",
       "      <td>https://m.shopping.naver.com/market/necessity/...</td>\n",
       "      <td>Mozilla/5.0 (Linux; Android 11; SM-N986N Build...</td>\n",
       "    </tr>\n",
       "    <tr>\n",
       "      <th>3</th>\n",
       "      <td>2022-01-05 00:00:04</td>\n",
       "      <td>U10378</td>\n",
       "      <td>F</td>\n",
       "      <td>45</td>\n",
       "      <td>NHN/한국/네이버/모바일_웹/모바일_쇼핑/쇼핑윈도/아울렛윈도/아울렛윈도(NEW)/...</td>\n",
       "      <td>https://m.shopping.naver.com/outlet/event/2000...</td>\n",
       "      <td>Mozilla/5.0 (Linux; Android 11; SAMSUNG SM-N97...</td>\n",
       "    </tr>\n",
       "    <tr>\n",
       "      <th>4</th>\n",
       "      <td>2022-01-05 00:00:05</td>\n",
       "      <td>U13602</td>\n",
       "      <td>F</td>\n",
       "      <td>47</td>\n",
       "      <td>NHN/한국/네이버/모바일_웹/모바일_쇼핑/모바일_스마트스토어/상품상세/상품상세</td>\n",
       "      <td>https://m.smartstore.naver.com/wisemonster/pro...</td>\n",
       "      <td>Mozilla/5.0 (Linux; Android 11; SAMSUNG SM-N98...</td>\n",
       "    </tr>\n",
       "  </tbody>\n",
       "</table>\n",
       "</div>"
      ],
      "text/plain": [
       "              datetime user_id sex  age  \\\n",
       "0  2022-01-05 00:00:01  U11007   F   36   \n",
       "1  2022-01-05 00:00:02  U14212   M   44   \n",
       "2  2022-01-05 00:00:03  U14108   M   44   \n",
       "3  2022-01-05 00:00:04  U10378   F   45   \n",
       "4  2022-01-05 00:00:05  U13602   F   47   \n",
       "\n",
       "                                                page  \\\n",
       "0               NHN/한국/네이버/모바일_웹/모바일메인/쇼핑판E/미시판(구)/웹   \n",
       "1       NHN/한국/네이버/모바일_웹/모바일_쇼핑/모바일_스마트스토어/상품상세/상품상세   \n",
       "2  NHN/한국/네이버/모바일_웹/모바일_쇼핑/쇼핑윈도/장보기/브랜드장보기/상품상세/상품상세   \n",
       "3  NHN/한국/네이버/모바일_웹/모바일_쇼핑/쇼핑윈도/아울렛윈도/아울렛윈도(NEW)/...   \n",
       "4       NHN/한국/네이버/모바일_웹/모바일_쇼핑/모바일_스마트스토어/상품상세/상품상세   \n",
       "\n",
       "                                                 url  \\\n",
       "0                               https://m.naver.com/   \n",
       "1  https://m.smartstore.naver.com/campingrecipe/p...   \n",
       "2  https://m.shopping.naver.com/market/necessity/...   \n",
       "3  https://m.shopping.naver.com/outlet/event/2000...   \n",
       "4  https://m.smartstore.naver.com/wisemonster/pro...   \n",
       "\n",
       "                                              device  \n",
       "0  Mozilla/5.0 (iPhone; CPU iPhone OS 14_8_1 like...  \n",
       "1  Mozilla/5.0 (Linux; Android 11; SM-G970N Build...  \n",
       "2  Mozilla/5.0 (Linux; Android 11; SM-N986N Build...  \n",
       "3  Mozilla/5.0 (Linux; Android 11; SAMSUNG SM-N97...  \n",
       "4  Mozilla/5.0 (Linux; Android 11; SAMSUNG SM-N98...  "
      ]
     },
     "execution_count": 4,
     "metadata": {},
     "output_type": "execute_result"
    }
   ],
   "source": [
    "raw.head()"
   ]
  },
  {
   "cell_type": "markdown",
   "metadata": {
    "id": "_mskhaq1ZV0s"
   },
   "source": [
    "# 1. 기초 전처리"
   ]
  },
  {
   "cell_type": "markdown",
   "metadata": {},
   "source": [
    "## 1.1. 라벨 데이터 merge"
   ]
  },
  {
   "cell_type": "code",
   "execution_count": 5,
   "metadata": {
    "id": "e47jSQ2pZL77"
   },
   "outputs": [],
   "source": [
    "# uxlab 2차 레이블 불러오기\n",
    "labels = pd.read_csv(os.path.join(os.getcwd(),'uxlab_label2.csv'))"
   ]
  },
  {
   "cell_type": "code",
   "execution_count": 6,
   "metadata": {
    "colab": {
     "base_uri": "https://localhost:8080/",
     "height": 206
    },
    "id": "lwzIF_vHaceH",
    "outputId": "91abf7b6-3673-4f46-8e91-683851e9b464"
   },
   "outputs": [
    {
     "data": {
      "text/html": [
       "<div>\n",
       "<style scoped>\n",
       "    .dataframe tbody tr th:only-of-type {\n",
       "        vertical-align: middle;\n",
       "    }\n",
       "\n",
       "    .dataframe tbody tr th {\n",
       "        vertical-align: top;\n",
       "    }\n",
       "\n",
       "    .dataframe thead th {\n",
       "        text-align: right;\n",
       "    }\n",
       "</style>\n",
       "<table border=\"1\" class=\"dataframe\">\n",
       "  <thead>\n",
       "    <tr style=\"text-align: right;\">\n",
       "      <th></th>\n",
       "      <th>PAGE</th>\n",
       "      <th>Labeling</th>\n",
       "      <th>Num</th>\n",
       "      <th>URL</th>\n",
       "    </tr>\n",
       "  </thead>\n",
       "  <tbody>\n",
       "    <tr>\n",
       "      <th>0</th>\n",
       "      <td>['모바일_쇼핑', 'Toptop(탑탑)', '리뷰', '원부_포토,동영상_상세n목록']</td>\n",
       "      <td>1</td>\n",
       "      <td>482</td>\n",
       "      <td>https://toptop.naver.com/main/shopping-reviews...</td>\n",
       "    </tr>\n",
       "    <tr>\n",
       "      <th>1</th>\n",
       "      <td>['모바일_쇼핑', '쇼핑윈도', '장보기', '배송지설정', '배송지목록']</td>\n",
       "      <td>1</td>\n",
       "      <td>326</td>\n",
       "      <td>https://m.shopping.naver.com/shipping/list</td>\n",
       "    </tr>\n",
       "    <tr>\n",
       "      <th>2</th>\n",
       "      <td>['모바일_쇼핑', '원쁠딜', '서비스소개']</td>\n",
       "      <td>1</td>\n",
       "      <td>84</td>\n",
       "      <td>https://plusdeal.naver.com/sharepoint</td>\n",
       "    </tr>\n",
       "    <tr>\n",
       "      <th>3</th>\n",
       "      <td>['모바일_쇼핑', '쇼핑윈도', '장보기', '배송지설정', '배송지추가']</td>\n",
       "      <td>1</td>\n",
       "      <td>49</td>\n",
       "      <td>https://m.shopping.naver.com/shipping/form</td>\n",
       "    </tr>\n",
       "    <tr>\n",
       "      <th>4</th>\n",
       "      <td>['모바일_쇼핑', '쇼핑윈도', '펫윈도', '펫등록']</td>\n",
       "      <td>1</td>\n",
       "      <td>22</td>\n",
       "      <td>https://m.swindow.naver.com/pet/profile?petId=...</td>\n",
       "    </tr>\n",
       "  </tbody>\n",
       "</table>\n",
       "</div>"
      ],
      "text/plain": [
       "                                                PAGE Labeling  Num  \\\n",
       "0  ['모바일_쇼핑', 'Toptop(탑탑)', '리뷰', '원부_포토,동영상_상세n목록']        1  482   \n",
       "1        ['모바일_쇼핑', '쇼핑윈도', '장보기', '배송지설정', '배송지목록']        1  326   \n",
       "2                         ['모바일_쇼핑', '원쁠딜', '서비스소개']        1   84   \n",
       "3        ['모바일_쇼핑', '쇼핑윈도', '장보기', '배송지설정', '배송지추가']        1   49   \n",
       "4                   ['모바일_쇼핑', '쇼핑윈도', '펫윈도', '펫등록']        1   22   \n",
       "\n",
       "                                                 URL  \n",
       "0  https://toptop.naver.com/main/shopping-reviews...  \n",
       "1         https://m.shopping.naver.com/shipping/list  \n",
       "2              https://plusdeal.naver.com/sharepoint  \n",
       "3         https://m.shopping.naver.com/shipping/form  \n",
       "4  https://m.swindow.naver.com/pet/profile?petId=...  "
      ]
     },
     "execution_count": 6,
     "metadata": {},
     "output_type": "execute_result"
    }
   ],
   "source": [
    "labels.head()"
   ]
  },
  {
   "cell_type": "code",
   "execution_count": 7,
   "metadata": {
    "id": "UaQvNWYBZtHA"
   },
   "outputs": [],
   "source": [
    "# datetime 칼럼 자료형 변환\n",
    "# page 칼럼에서 필요한 부분만 추출해서 PAGE라는 칼럼에 저장(labels와 칼럼 이름 맞춤)\n",
    "raw['datetime'] = pd.to_datetime(raw['datetime'])\n",
    "raw['PAGE'] = raw['page'].apply(lambda x: str(x.split('/')[4:]))"
   ]
  },
  {
   "cell_type": "code",
   "execution_count": 8,
   "metadata": {
    "id": "xz-kEXVNaZc5"
   },
   "outputs": [],
   "source": [
    "# UXLab 라벨 데이터와 raw 데이터 병합\n",
    "raw = raw.merge(labels,on='PAGE',how='left')"
   ]
  },
  {
   "cell_type": "markdown",
   "metadata": {},
   "source": [
    "## 1.2. datetime, page 자료형 변환"
   ]
  },
  {
   "cell_type": "code",
   "execution_count": 9,
   "metadata": {
    "id": "MBxYfANOa0mc"
   },
   "outputs": [],
   "source": [
    "# datetime 칼럼 자료형 변환 (한번 더)\n",
    "# 안 쓸 칼럼 (page, Num) drop\n",
    "raw['datetime'] = pd.to_datetime(raw['datetime'])\n",
    "raw.drop(['page','Num','URL'],axis=1,inplace=True)"
   ]
  },
  {
   "cell_type": "code",
   "execution_count": 10,
   "metadata": {
    "id": "93b2BESHbSqJ"
   },
   "outputs": [],
   "source": [
    "# PAGE 칼럼을 page로 이름 변경\n",
    "# user_id, datetime 오름차순으로 정렬\n",
    "raw.rename(columns={'PAGE':'page'},inplace=True)\n",
    "raw.sort_values(['user_id','datetime'],inplace=True)"
   ]
  },
  {
   "cell_type": "markdown",
   "metadata": {},
   "source": [
    "## 1.3. Outlier 로그 제거 & 세션 나누기"
   ]
  },
  {
   "cell_type": "code",
   "execution_count": 11,
   "metadata": {
    "id": "1t0VWEIDbqZf"
   },
   "outputs": [],
   "source": [
    "# 라벨이 *인 데이터들 제거\n",
    "raw = raw[raw['Labeling']!='*'].reset_index().drop('index',axis=1)"
   ]
  },
  {
   "cell_type": "code",
   "execution_count": 12,
   "metadata": {},
   "outputs": [],
   "source": [
    "# 숫자인 라벨들만 남았으므로, Labeling 칼럼의 자료형을 int로 변환\n",
    "raw['Labeling'] = raw['Labeling'].astype(int)"
   ]
  },
  {
   "cell_type": "code",
   "execution_count": 13,
   "metadata": {
    "id": "lgPBf9lDcB9A"
   },
   "outputs": [],
   "source": [
    "# 60분 이상 차이나면 세션 나눔\n",
    "# 각 user_id와 세션번호를 조합하여 id 칼럼 생성\n",
    "raw['session'] = raw.groupby('user_id')['datetime'].apply(lambda x: x.diff().gt('60Min').cumsum())\n",
    "raw['id'] = raw['user_id']+'_'+raw['session'].astype(str)"
   ]
  },
  {
   "cell_type": "code",
   "execution_count": 14,
   "metadata": {},
   "outputs": [],
   "source": [
    "# page_stay_time(해당 로그 내에 얼마나 오래 체류했는지) 칼럼 생성\n",
    "raw['page_stay_time'] = raw.groupby('id')['datetime'].diff()"
   ]
  },
  {
   "cell_type": "code",
   "execution_count": 15,
   "metadata": {},
   "outputs": [],
   "source": [
    "# 이전 로그와 중복된 URL을 갖는 로그 제거\n",
    "raw['prev_url'] = raw.groupby('id')['url'].shift(1)\n",
    "raw = raw[raw['url']!=raw['prev_url']].drop('prev_url',axis=1)"
   ]
  },
  {
   "cell_type": "code",
   "execution_count": 16,
   "metadata": {},
   "outputs": [
    {
     "data": {
      "text/plain": [
       "(5394352, 11)"
      ]
     },
     "execution_count": 16,
     "metadata": {},
     "output_type": "execute_result"
    }
   ],
   "source": [
    "raw.shape"
   ]
  },
  {
   "cell_type": "markdown",
   "metadata": {},
   "source": [
    "## 1.4. 세션 관련 기본 feature 생성"
   ]
  },
  {
   "cell_type": "code",
   "execution_count": 17,
   "metadata": {
    "id": "QSOyalfEcldU"
   },
   "outputs": [],
   "source": [
    "# session_length (세션 길이) 칼럼 생성\n",
    "# session_nth (세션 내 몇번째 로그인지) 칼럼 생성\n",
    "raw = raw.merge(pd.DataFrame(raw.groupby('id')['session'].count()).rename(columns={'session':'session_length'}),on='id',how='left')\n",
    "raw['session_nth'] = raw.groupby('id').cumcount()+1"
   ]
  },
  {
   "cell_type": "code",
   "execution_count": 18,
   "metadata": {
    "id": "9k3rHRsFdYLK"
   },
   "outputs": [],
   "source": [
    "# prev_Labeling 칼럼 생성 (해당 세션 내 이전 라벨)\n",
    "# prev_page 칼럼 생성 (해당 세션 내 이전 페이지)\n",
    "raw['prev_Labeling'] = raw.groupby('id')['Labeling'].shift(1)\n",
    "raw['prev_page'] = raw.groupby('id')['page'].shift(1)"
   ]
  },
  {
   "cell_type": "code",
   "execution_count": 19,
   "metadata": {
    "id": "ddLBOkr1eDLX"
   },
   "outputs": [],
   "source": [
    "# begin_time 칼럼 생성 (해당 세션의 시작 시간)\n",
    "# end_time 칼럼 생성 (해당 세션의 마지막 시간)\n",
    "raw = raw.merge(pd.DataFrame(raw.groupby('id')['datetime'].min()).rename(columns={'datetime':'begin_time'}),on='id',how='left')\n",
    "raw = raw.merge(pd.DataFrame(raw.groupby('id')['datetime'].max()).rename(columns={'datetime':'end_time'}),on='id',how='left')"
   ]
  },
  {
   "cell_type": "markdown",
   "metadata": {
    "id": "HqjJDScTe7JF"
   },
   "source": [
    "# 2. Cart, Like, Purchase 데이터와 merge"
   ]
  },
  {
   "cell_type": "code",
   "execution_count": 20,
   "metadata": {
    "colab": {
     "base_uri": "https://localhost:8080/"
    },
    "id": "Eeso8OorfAtk",
    "outputId": "af674b5c-a6f0-4825-c987-17c40d686a4a"
   },
   "outputs": [
    {
     "name": "stderr",
     "output_type": "stream",
     "text": [
      "/tmp/ipykernel_5209/2568645029.py:4: DtypeWarning: Columns (4) have mixed types. Specify dtype option on import or set low_memory=False.\n",
      "  purchase = pd.read_csv(os.path.join(os.getcwd(),'purchase_20220407.csv'))\n"
     ]
    }
   ],
   "source": [
    "# 최초 cart, like, purchase 데이터 불러오기\n",
    "cart = pd.read_csv(os.path.join(os.getcwd(),'cart_20220407.csv'))\n",
    "like = pd.read_csv(os.path.join(os.getcwd(),'like_20220412.csv'))\n",
    "purchase = pd.read_csv(os.path.join(os.getcwd(),'purchase_20220407.csv'))"
   ]
  },
  {
   "cell_type": "code",
   "execution_count": 21,
   "metadata": {},
   "outputs": [
    {
     "data": {
      "text/plain": [
       "(212770, 8)"
      ]
     },
     "execution_count": 21,
     "metadata": {},
     "output_type": "execute_result"
    }
   ],
   "source": [
    "cart.shape"
   ]
  },
  {
   "cell_type": "code",
   "execution_count": 22,
   "metadata": {},
   "outputs": [
    {
     "data": {
      "text/plain": [
       "(92147, 9)"
      ]
     },
     "execution_count": 22,
     "metadata": {},
     "output_type": "execute_result"
    }
   ],
   "source": [
    "like.shape"
   ]
  },
  {
   "cell_type": "code",
   "execution_count": 23,
   "metadata": {},
   "outputs": [
    {
     "data": {
      "text/plain": [
       "(123985, 11)"
      ]
     },
     "execution_count": 23,
     "metadata": {},
     "output_type": "execute_result"
    }
   ],
   "source": [
    "purchase.shape"
   ]
  },
  {
   "cell_type": "code",
   "execution_count": 24,
   "metadata": {
    "id": "_FEIker-fMCw"
   },
   "outputs": [],
   "source": [
    "# 병합을 위해 end_time2 (세션의 마지막 시간에 60분을 더한) 칼럼 생성\n",
    "raw['end_time2'] = raw['end_time'] + pd.to_timedelta(1, unit='h')"
   ]
  },
  {
   "cell_type": "markdown",
   "metadata": {
    "id": "ajT2Sq1Yf1cZ"
   },
   "source": [
    "## 2.1. Cart 데이터와 merge"
   ]
  },
  {
   "cell_type": "markdown",
   "metadata": {
    "id": "gtNqhm2xiSSu"
   },
   "source": [
    "> cart.csv에서 특정 고객의 action이 발생한 경우, 해당 고객의 세션들 중 해당 시간을 포함하는 세션이 있는지 확인\n",
    "\n",
    "\n",
    "\n",
    "> 포함되는 세션이 있으면, 해당 세션 내에서 시간 상 가장 가까운 로그에 매칭"
   ]
  },
  {
   "cell_type": "code",
   "execution_count": 25,
   "metadata": {
    "colab": {
     "base_uri": "https://localhost:8080/",
     "height": 354
    },
    "id": "LfRnlMY_gXa-",
    "outputId": "d1e82f1a-6a30-4dc6-ea8f-9241c4c8ac43"
   },
   "outputs": [
    {
     "data": {
      "text/html": [
       "<div>\n",
       "<style scoped>\n",
       "    .dataframe tbody tr th:only-of-type {\n",
       "        vertical-align: middle;\n",
       "    }\n",
       "\n",
       "    .dataframe tbody tr th {\n",
       "        vertical-align: top;\n",
       "    }\n",
       "\n",
       "    .dataframe thead th {\n",
       "        text-align: right;\n",
       "    }\n",
       "</style>\n",
       "<table border=\"1\" class=\"dataframe\">\n",
       "  <thead>\n",
       "    <tr style=\"text-align: right;\">\n",
       "      <th></th>\n",
       "      <th>user_id</th>\n",
       "      <th>prod_no</th>\n",
       "      <th>prod_nm</th>\n",
       "      <th>event_type</th>\n",
       "      <th>event_ymdt</th>\n",
       "      <th>catg_nm_l</th>\n",
       "      <th>catg_nm_m</th>\n",
       "      <th>catg_nm_s</th>\n",
       "    </tr>\n",
       "  </thead>\n",
       "  <tbody>\n",
       "    <tr>\n",
       "      <th>0</th>\n",
       "      <td>U13824</td>\n",
       "      <td>5998072702</td>\n",
       "      <td>대리석 잼스톤 호일필름 10종세트+투명스톤100개입 클리어수제젤네일아트셀프 명품재료팁레진</td>\n",
       "      <td>com.naver.ncp.cart.product.message.CartProduct...</td>\n",
       "      <td>2021-12-09 08:18:36.764</td>\n",
       "      <td>화장품/미용</td>\n",
       "      <td>네일케어</td>\n",
       "      <td>네일아트</td>\n",
       "    </tr>\n",
       "    <tr>\n",
       "      <th>1</th>\n",
       "      <td>U13824</td>\n",
       "      <td>6044012188</td>\n",
       "      <td>뷰젤 기초젤 10ml 17종 [스크래치] 탑 베이스 클리어 오빠 데빌 퍼펙트 멀티 ...</td>\n",
       "      <td>com.naver.ncp.cart.product.message.CartProduct...</td>\n",
       "      <td>2021-12-09 08:21:02.761</td>\n",
       "      <td>화장품/미용</td>\n",
       "      <td>네일케어</td>\n",
       "      <td>매니큐어</td>\n",
       "    </tr>\n",
       "    <tr>\n",
       "      <th>2</th>\n",
       "      <td>U13871</td>\n",
       "      <td>5163579376</td>\n",
       "      <td>여성 하이웨스트 융털 세미와이드 밴딩 슬랙스 기모바지</td>\n",
       "      <td>com.naver.ncp.cart.product.message.CartProduct...</td>\n",
       "      <td>2021-12-09 08:28:29.678</td>\n",
       "      <td>패션의류</td>\n",
       "      <td>여성의류</td>\n",
       "      <td>바지</td>\n",
       "    </tr>\n",
       "    <tr>\n",
       "      <th>3</th>\n",
       "      <td>U14260</td>\n",
       "      <td>5993477739</td>\n",
       "      <td>포피 플레이타임 인형 허기워기 게임 굿즈 키시미시 파피 뽀삐 Poppy Playtime</td>\n",
       "      <td>com.naver.ncp.cart.product.message.CartProduct...</td>\n",
       "      <td>2021-12-09 08:13:23.755</td>\n",
       "      <td>출산/육아</td>\n",
       "      <td>인형</td>\n",
       "      <td>봉제인형</td>\n",
       "    </tr>\n",
       "    <tr>\n",
       "      <th>4</th>\n",
       "      <td>U13824</td>\n",
       "      <td>2540097319</td>\n",
       "      <td>뷰젤 쉬폰 무광 매트 탑젤 10g 논와이프 탑 네일아트재료</td>\n",
       "      <td>com.naver.ncp.cart.product.message.CartProduct...</td>\n",
       "      <td>2021-12-09 08:16:08.172</td>\n",
       "      <td>화장품/미용</td>\n",
       "      <td>네일케어</td>\n",
       "      <td>매니큐어</td>\n",
       "    </tr>\n",
       "  </tbody>\n",
       "</table>\n",
       "</div>"
      ],
      "text/plain": [
       "  user_id     prod_no                                            prod_nm  \\\n",
       "0  U13824  5998072702  대리석 잼스톤 호일필름 10종세트+투명스톤100개입 클리어수제젤네일아트셀프 명품재료팁레진   \n",
       "1  U13824  6044012188  뷰젤 기초젤 10ml 17종 [스크래치] 탑 베이스 클리어 오빠 데빌 퍼펙트 멀티 ...   \n",
       "2  U13871  5163579376                      여성 하이웨스트 융털 세미와이드 밴딩 슬랙스 기모바지   \n",
       "3  U14260  5993477739   포피 플레이타임 인형 허기워기 게임 굿즈 키시미시 파피 뽀삐 Poppy Playtime   \n",
       "4  U13824  2540097319                   뷰젤 쉬폰 무광 매트 탑젤 10g 논와이프 탑 네일아트재료   \n",
       "\n",
       "                                          event_type               event_ymdt  \\\n",
       "0  com.naver.ncp.cart.product.message.CartProduct...  2021-12-09 08:18:36.764   \n",
       "1  com.naver.ncp.cart.product.message.CartProduct...  2021-12-09 08:21:02.761   \n",
       "2  com.naver.ncp.cart.product.message.CartProduct...  2021-12-09 08:28:29.678   \n",
       "3  com.naver.ncp.cart.product.message.CartProduct...  2021-12-09 08:13:23.755   \n",
       "4  com.naver.ncp.cart.product.message.CartProduct...  2021-12-09 08:16:08.172   \n",
       "\n",
       "  catg_nm_l catg_nm_m catg_nm_s  \n",
       "0    화장품/미용      네일케어      네일아트  \n",
       "1    화장품/미용      네일케어      매니큐어  \n",
       "2      패션의류      여성의류        바지  \n",
       "3     출산/육아        인형      봉제인형  \n",
       "4    화장품/미용      네일케어      매니큐어  "
      ]
     },
     "execution_count": 25,
     "metadata": {},
     "output_type": "execute_result"
    }
   ],
   "source": [
    "cart.head()"
   ]
  },
  {
   "cell_type": "code",
   "execution_count": 26,
   "metadata": {
    "colab": {
     "base_uri": "https://localhost:8080/",
     "height": 206
    },
    "id": "NI_Fbmv-frD9",
    "outputId": "3e4650ab-b9fe-4c24-8af2-a717d334bdad"
   },
   "outputs": [
    {
     "data": {
      "text/html": [
       "<div>\n",
       "<style scoped>\n",
       "    .dataframe tbody tr th:only-of-type {\n",
       "        vertical-align: middle;\n",
       "    }\n",
       "\n",
       "    .dataframe tbody tr th {\n",
       "        vertical-align: top;\n",
       "    }\n",
       "\n",
       "    .dataframe thead th {\n",
       "        text-align: right;\n",
       "    }\n",
       "</style>\n",
       "<table border=\"1\" class=\"dataframe\">\n",
       "  <thead>\n",
       "    <tr style=\"text-align: right;\">\n",
       "      <th></th>\n",
       "      <th>user_id</th>\n",
       "      <th>prod_no</th>\n",
       "      <th>prod_nm</th>\n",
       "      <th>event_type</th>\n",
       "      <th>event_ymdt</th>\n",
       "      <th>catg_nm_l</th>\n",
       "      <th>catg_nm_m</th>\n",
       "      <th>catg_nm_s</th>\n",
       "    </tr>\n",
       "  </thead>\n",
       "  <tbody>\n",
       "    <tr>\n",
       "      <th>185318</th>\n",
       "      <td>U10001</td>\n",
       "      <td>5633129636</td>\n",
       "      <td>묘야 레인보우 아크릴스탠드</td>\n",
       "      <td>CartProductCreated</td>\n",
       "      <td>2021-12-05 19:38:32</td>\n",
       "      <td>생활/건강</td>\n",
       "      <td>수집품</td>\n",
       "      <td>모형/프라모델/피규어</td>\n",
       "    </tr>\n",
       "    <tr>\n",
       "      <th>185316</th>\n",
       "      <td>U10001</td>\n",
       "      <td>6068019895</td>\n",
       "      <td>(예약) 묘야 2022 탁상달력</td>\n",
       "      <td>CartProductCreated</td>\n",
       "      <td>2021-12-05 19:39:04</td>\n",
       "      <td>생활/건강</td>\n",
       "      <td>문구/사무용품</td>\n",
       "      <td>다이어리/플래너</td>\n",
       "    </tr>\n",
       "    <tr>\n",
       "      <th>185317</th>\n",
       "      <td>U10001</td>\n",
       "      <td>5633129636</td>\n",
       "      <td>묘야 레인보우 아크릴스탠드</td>\n",
       "      <td>CartProductDeleted</td>\n",
       "      <td>2021-12-05 19:39:25</td>\n",
       "      <td>생활/건강</td>\n",
       "      <td>수집품</td>\n",
       "      <td>모형/프라모델/피규어</td>\n",
       "    </tr>\n",
       "    <tr>\n",
       "      <th>185315</th>\n",
       "      <td>U10001</td>\n",
       "      <td>6068019895</td>\n",
       "      <td>(예약) 묘야 2022 탁상달력</td>\n",
       "      <td>CartProductDeleted</td>\n",
       "      <td>2021-12-05 19:39:46</td>\n",
       "      <td>생활/건강</td>\n",
       "      <td>문구/사무용품</td>\n",
       "      <td>다이어리/플래너</td>\n",
       "    </tr>\n",
       "    <tr>\n",
       "      <th>166978</th>\n",
       "      <td>U10001</td>\n",
       "      <td>2341342392</td>\n",
       "      <td>휴지걸이 욕실 화장실 스텐 접착식</td>\n",
       "      <td>CartProductCreated</td>\n",
       "      <td>2021-12-12 16:39:29</td>\n",
       "      <td>생활/건강</td>\n",
       "      <td>욕실용품</td>\n",
       "      <td>욕실용기/홀더</td>\n",
       "    </tr>\n",
       "  </tbody>\n",
       "</table>\n",
       "</div>"
      ],
      "text/plain": [
       "       user_id     prod_no             prod_nm          event_type  \\\n",
       "185318  U10001  5633129636      묘야 레인보우 아크릴스탠드  CartProductCreated   \n",
       "185316  U10001  6068019895   (예약) 묘야 2022 탁상달력  CartProductCreated   \n",
       "185317  U10001  5633129636      묘야 레인보우 아크릴스탠드  CartProductDeleted   \n",
       "185315  U10001  6068019895   (예약) 묘야 2022 탁상달력  CartProductDeleted   \n",
       "166978  U10001  2341342392  휴지걸이 욕실 화장실 스텐 접착식  CartProductCreated   \n",
       "\n",
       "                event_ymdt catg_nm_l catg_nm_m    catg_nm_s  \n",
       "185318 2021-12-05 19:38:32     생활/건강       수집품  모형/프라모델/피규어  \n",
       "185316 2021-12-05 19:39:04     생활/건강   문구/사무용품     다이어리/플래너  \n",
       "185317 2021-12-05 19:39:25     생활/건강       수집품  모형/프라모델/피규어  \n",
       "185315 2021-12-05 19:39:46     생활/건강   문구/사무용품     다이어리/플래너  \n",
       "166978 2021-12-12 16:39:29     생활/건강      욕실용품      욕실용기/홀더  "
      ]
     },
     "execution_count": 26,
     "metadata": {},
     "output_type": "execute_result"
    }
   ],
   "source": [
    "# cart 데이터를 user_id, 시간 순으로 정렬\n",
    "# 병합을 위해, cart 데이터의 시간을 초 단위까지만 표시\n",
    "# cart 데이터는 UTC+9시간으로 되어 있어, raw와 시간대 맞추기 위해 9시간 빼줌\n",
    "# cart의 event_type 칼럼에서 필요한 부분만 추출\n",
    "cart.sort_values(by=['user_id','event_ymdt'],inplace=True)\n",
    "cart['event_ymdt'] = pd.to_datetime(cart['event_ymdt']).round('s')\n",
    "cart['event_ymdt'] = cart['event_ymdt'] - timedelta(hours=9)   \n",
    "cart['event_type'] = cart['event_type'].apply(lambda x: x.split('.')[-1])\n",
    "cart.head()"
   ]
  },
  {
   "cell_type": "code",
   "execution_count": 27,
   "metadata": {
    "id": "a25DpMa6gecZ"
   },
   "outputs": [],
   "source": [
    "# 세션의 첫 시간부터 마지막 시간+60분 사이에 cart에 해당 고객의 action이 있으면 merge\n",
    "\n",
    "# raw 내 모든 데이터의 datetime과 cart 내 모든 데이터의 datetime을 비교하는 것은 비효율적\n",
    "# 날짜가 같은 데이터끼리만 비교하는 것이 효율적이므로, raw와 cart에 각각 date 칼럼 생성\n",
    "# but 이렇게 되면, 세션의 마지막 시간이 23시~00시 사이이고, cart의 action이 00시~01시 사이에 발생한 경우 merge가 누락됨.\n",
    "# 그래서 cart에 date2 (cart의 datetime에서 하루를 뺀 것의 날짜) 칼럼 생성\n",
    "raw['date'] = raw['datetime'].dt.floor('d')\n",
    "cart['date'] = cart['event_ymdt'].dt.floor('d')\n",
    "cart['date2'] = cart['event_ymdt'].dt.floor('d') - timedelta(days=1)"
   ]
  },
  {
   "cell_type": "code",
   "execution_count": 28,
   "metadata": {
    "colab": {
     "base_uri": "https://localhost:8080/"
    },
    "id": "xIq36ebUgplA",
    "outputId": "9ad4ed2c-85da-422c-ccd5-d90be15177a7"
   },
   "outputs": [
    {
     "name": "stderr",
     "output_type": "stream",
     "text": [
      "/home/jipal28/anaconda3/lib/python3.9/site-packages/pandas/core/computation/expressions.py:214: UserWarning: evaluating in Python space because the '*' operator is not supported by numexpr for the bool dtype, use '&' instead.\n",
      "  warnings.warn(\n"
     ]
    }
   ],
   "source": [
    "# raw의 date와 cart의 date가 일치하는 데이터끼리 merge\n",
    "# 세션의 첫 시간부터 마지막 시간+60분 사이에 cart에 해당 고객의 action이 있는 것만 남김\n",
    "log_cart = raw.merge(cart,on=['user_id','date'],how='inner')\n",
    "log_cart = log_cart[((log_cart['event_ymdt'] - log_cart['begin_time'])>timedelta(0))*((log_cart['end_time2']-log_cart['event_ymdt'])>timedelta(0))==1]\n",
    "log_cart.sort_values(by=['id','datetime'],inplace=True)"
   ]
  },
  {
   "cell_type": "code",
   "execution_count": 29,
   "metadata": {},
   "outputs": [
    {
     "name": "stderr",
     "output_type": "stream",
     "text": [
      "/home/jipal28/anaconda3/lib/python3.9/site-packages/pandas/core/computation/expressions.py:214: UserWarning: evaluating in Python space because the '*' operator is not supported by numexpr for the bool dtype, use '&' instead.\n",
      "  warnings.warn(\n"
     ]
    }
   ],
   "source": [
    "# raw의 date와 cart의 date2 (cart의 date에서 1일 뺀 것)가 일치하는 데이터끼리 merge\n",
    "# 세션의 첫 시간부터 마지막 시간+60분 사이에 cart에 해당 고객의 action이 있는 것만 남김\n",
    "log_cart2 = raw.merge(cart,left_on=['user_id','date'],right_on=['user_id','date2'],how='inner')\n",
    "log_cart2 = log_cart2[((log_cart2['event_ymdt'] - log_cart2['begin_time'])>timedelta(0))*((log_cart2['end_time2']-log_cart2['event_ymdt'])>timedelta(0))==1]\n",
    "log_cart2.sort_values(by=['id','datetime'],inplace=True)"
   ]
  },
  {
   "cell_type": "code",
   "execution_count": 30,
   "metadata": {},
   "outputs": [],
   "source": [
    "# 위 두 merge 데이터 합침\n",
    "log_cart = pd.concat([log_cart,log_cart2],axis=0)\n",
    "\n",
    "# 각 세션별로, cart action과 시간 상 가장 가까운 로그에 매칭시킴\n",
    "log_cart['diff'] = ((log_cart['event_ymdt'] - log_cart['datetime']).astype('timedelta64[s]'))**2\n",
    "log_cart = log_cart.merge(pd.DataFrame(log_cart.groupby('id')['diff'].min()).rename(columns={'diff':'min_diff'}),on='id',how='left')\n",
    "log_cart = log_cart[(log_cart['diff']-log_cart['min_diff'])**2<0.1]\n",
    "log_cart.drop_duplicates(subset=['id','event_ymdt'],keep='last',inplace=True)\n",
    "log_cart.drop('min_diff',axis=1,inplace=True)\n",
    "log_cart['cart_id'] = 1"
   ]
  },
  {
   "cell_type": "code",
   "execution_count": 31,
   "metadata": {},
   "outputs": [
    {
     "data": {
      "text/plain": [
       "0.2997509047328101"
      ]
     },
     "execution_count": 31,
     "metadata": {},
     "output_type": "execute_result"
    }
   ],
   "source": [
    "# 전체 cart 데이터 중 약 30% 정도만 매칭되는 로그 존재 \n",
    "# (나머지는 웹 상에서의 action으로 추정)\n",
    "log_cart.shape[0] / cart.shape[0]"
   ]
  },
  {
   "cell_type": "code",
   "execution_count": 32,
   "metadata": {},
   "outputs": [],
   "source": [
    "# 사용하지 않을 칼럼들 드랍\n",
    "# 이후 전체 로그 데이터와 병합될 때 혼동을 피하기 위해 칼럼 이름들 앞에 'cart' 붙임\n",
    "log_cart.drop(['cart_id','end_time2','date','date_x','date_y','date2'],axis=1,inplace=True)\n",
    "log_cart.rename(columns={'prod_no':'cart_prod_no','prod_nm':'cart_prod_nm','event_type':'cart_event_type','event_ymdt':'cart_event_ymdt',\n",
    "                                    'catg_nm_l':'cart_catg_nm_l','catg_nm_m':'cart_catg_nm_m','catg_nm_s':'cart_catg_nm_s','diff':'log_cart_time_diff'},inplace=True)"
   ]
  },
  {
   "cell_type": "code",
   "execution_count": 33,
   "metadata": {},
   "outputs": [
    {
     "data": {
      "text/plain": [
       "Index(['datetime', 'user_id', 'sex', 'age', 'url', 'device', 'page',\n",
       "       'Labeling', 'session', 'id', 'page_stay_time', 'session_length',\n",
       "       'session_nth', 'prev_Labeling', 'prev_page', 'begin_time', 'end_time',\n",
       "       'cart_prod_no', 'cart_prod_nm', 'cart_event_type', 'cart_event_ymdt',\n",
       "       'cart_catg_nm_l', 'cart_catg_nm_m', 'cart_catg_nm_s',\n",
       "       'log_cart_time_diff'],\n",
       "      dtype='object')"
      ]
     },
     "execution_count": 33,
     "metadata": {},
     "output_type": "execute_result"
    }
   ],
   "source": [
    "log_cart.columns"
   ]
  },
  {
   "cell_type": "markdown",
   "metadata": {},
   "source": [
    "## 2.2. Like 데이터와 merge"
   ]
  },
  {
   "cell_type": "markdown",
   "metadata": {},
   "source": [
    "> like.csv에서 특정 고객의 action이 발생한 경우, 해당 고객의 세션들 중 해당 시간을 포함하는 세션이 있는지 확인\n",
    "\n",
    "\n",
    "\n",
    "> 포함되는 세션이 있으면, 해당 세션 내에서 시간 상 가장 가까운 로그에 매칭"
   ]
  },
  {
   "cell_type": "code",
   "execution_count": 34,
   "metadata": {},
   "outputs": [
    {
     "data": {
      "text/html": [
       "<div>\n",
       "<style scoped>\n",
       "    .dataframe tbody tr th:only-of-type {\n",
       "        vertical-align: middle;\n",
       "    }\n",
       "\n",
       "    .dataframe tbody tr th {\n",
       "        vertical-align: top;\n",
       "    }\n",
       "\n",
       "    .dataframe thead th {\n",
       "        text-align: right;\n",
       "    }\n",
       "</style>\n",
       "<table border=\"1\" class=\"dataframe\">\n",
       "  <thead>\n",
       "    <tr style=\"text-align: right;\">\n",
       "      <th></th>\n",
       "      <th>user_id</th>\n",
       "      <th>keep_stat_cd</th>\n",
       "      <th>prod_no</th>\n",
       "      <th>prod_nm</th>\n",
       "      <th>keep_reg_ymdt</th>\n",
       "      <th>catg_nm_l</th>\n",
       "      <th>catg_nm_m</th>\n",
       "      <th>catg_nm_s</th>\n",
       "      <th>dt</th>\n",
       "    </tr>\n",
       "  </thead>\n",
       "  <tbody>\n",
       "    <tr>\n",
       "      <th>0</th>\n",
       "      <td>U14965</td>\n",
       "      <td>D</td>\n",
       "      <td>5171148345</td>\n",
       "      <td>아에르 보건용마스크 KF80 대형,화이트(2매입) 100매(무료배송)</td>\n",
       "      <td>2021-12-31 10:08</td>\n",
       "      <td>생활/건강</td>\n",
       "      <td>건강관리용품</td>\n",
       "      <td>먼지차단마스크</td>\n",
       "      <td>20211231</td>\n",
       "    </tr>\n",
       "    <tr>\n",
       "      <th>1</th>\n",
       "      <td>U11569</td>\n",
       "      <td>A</td>\n",
       "      <td>4961583997</td>\n",
       "      <td>드로잉 패브릭 포스터 1:1 맞춤 제작 커스텀 인테리어 소품</td>\n",
       "      <td>2022-02-15 17:07</td>\n",
       "      <td>가구/인테리어</td>\n",
       "      <td>인테리어소품</td>\n",
       "      <td>액자</td>\n",
       "      <td>20220215</td>\n",
       "    </tr>\n",
       "    <tr>\n",
       "      <th>2</th>\n",
       "      <td>U10919</td>\n",
       "      <td>D</td>\n",
       "      <td>5277402754</td>\n",
       "      <td>아이폰 맥세이프 카드지갑 서드파티 스트래퍼스 소가죽 카드홀더 애플 케이스</td>\n",
       "      <td>2021-12-30 9:51</td>\n",
       "      <td>디지털/가전</td>\n",
       "      <td>휴대폰액세서리</td>\n",
       "      <td>기타휴대폰액세서리</td>\n",
       "      <td>20211230</td>\n",
       "    </tr>\n",
       "    <tr>\n",
       "      <th>3</th>\n",
       "      <td>U14377</td>\n",
       "      <td>A</td>\n",
       "      <td>3730339623</td>\n",
       "      <td>와이젠 돈풍기 원적외선 튜브히터 곱창난로 등유 주름관히터 팬형/90평형</td>\n",
       "      <td>2021-12-26 18:34</td>\n",
       "      <td>디지털/가전</td>\n",
       "      <td>계절가전</td>\n",
       "      <td>온풍기</td>\n",
       "      <td>20211226</td>\n",
       "    </tr>\n",
       "    <tr>\n",
       "      <th>4</th>\n",
       "      <td>U10369</td>\n",
       "      <td>A</td>\n",
       "      <td>6121954606</td>\n",
       "      <td>인조가죽 라인 퍼자켓 (AZW1QJ02A)/에이비에프지</td>\n",
       "      <td>2022-01-31 18:46</td>\n",
       "      <td>패션의류</td>\n",
       "      <td>여성의류</td>\n",
       "      <td>재킷</td>\n",
       "      <td>20220131</td>\n",
       "    </tr>\n",
       "  </tbody>\n",
       "</table>\n",
       "</div>"
      ],
      "text/plain": [
       "  user_id keep_stat_cd     prod_no                                   prod_nm  \\\n",
       "0  U14965            D  5171148345    아에르 보건용마스크 KF80 대형,화이트(2매입) 100매(무료배송)   \n",
       "1  U11569            A  4961583997         드로잉 패브릭 포스터 1:1 맞춤 제작 커스텀 인테리어 소품   \n",
       "2  U10919            D  5277402754  아이폰 맥세이프 카드지갑 서드파티 스트래퍼스 소가죽 카드홀더 애플 케이스   \n",
       "3  U14377            A  3730339623   와이젠 돈풍기 원적외선 튜브히터 곱창난로 등유 주름관히터 팬형/90평형   \n",
       "4  U10369            A  6121954606            인조가죽 라인 퍼자켓 (AZW1QJ02A)/에이비에프지   \n",
       "\n",
       "      keep_reg_ymdt catg_nm_l catg_nm_m  catg_nm_s        dt  \n",
       "0  2021-12-31 10:08     생활/건강    건강관리용품    먼지차단마스크  20211231  \n",
       "1  2022-02-15 17:07   가구/인테리어    인테리어소품         액자  20220215  \n",
       "2   2021-12-30 9:51    디지털/가전   휴대폰액세서리  기타휴대폰액세서리  20211230  \n",
       "3  2021-12-26 18:34    디지털/가전      계절가전        온풍기  20211226  \n",
       "4  2022-01-31 18:46      패션의류      여성의류         재킷  20220131  "
      ]
     },
     "execution_count": 34,
     "metadata": {},
     "output_type": "execute_result"
    }
   ],
   "source": [
    "like.head()"
   ]
  },
  {
   "cell_type": "code",
   "execution_count": 35,
   "metadata": {},
   "outputs": [
    {
     "data": {
      "text/html": [
       "<div>\n",
       "<style scoped>\n",
       "    .dataframe tbody tr th:only-of-type {\n",
       "        vertical-align: middle;\n",
       "    }\n",
       "\n",
       "    .dataframe tbody tr th {\n",
       "        vertical-align: top;\n",
       "    }\n",
       "\n",
       "    .dataframe thead th {\n",
       "        text-align: right;\n",
       "    }\n",
       "</style>\n",
       "<table border=\"1\" class=\"dataframe\">\n",
       "  <thead>\n",
       "    <tr style=\"text-align: right;\">\n",
       "      <th></th>\n",
       "      <th>user_id</th>\n",
       "      <th>keep_stat_cd</th>\n",
       "      <th>prod_no</th>\n",
       "      <th>prod_nm</th>\n",
       "      <th>keep_reg_ymdt</th>\n",
       "      <th>catg_nm_l</th>\n",
       "      <th>catg_nm_m</th>\n",
       "      <th>catg_nm_s</th>\n",
       "    </tr>\n",
       "  </thead>\n",
       "  <tbody>\n",
       "    <tr>\n",
       "      <th>81182</th>\n",
       "      <td>U10001</td>\n",
       "      <td>D</td>\n",
       "      <td>4698548361</td>\n",
       "      <td>칸지샵 초음파가습기 생수병가습기 사무실가습기</td>\n",
       "      <td>2021-12-03 11:34:00</td>\n",
       "      <td>디지털/가전</td>\n",
       "      <td>계절가전</td>\n",
       "      <td>가습기</td>\n",
       "    </tr>\n",
       "    <tr>\n",
       "      <th>63931</th>\n",
       "      <td>U10001</td>\n",
       "      <td>D</td>\n",
       "      <td>2625074850</td>\n",
       "      <td>[해리슨] 댑맨투맨 MJB1354</td>\n",
       "      <td>2021-12-04 04:26:00</td>\n",
       "      <td>NaN</td>\n",
       "      <td>NaN</td>\n",
       "      <td>NaN</td>\n",
       "    </tr>\n",
       "    <tr>\n",
       "      <th>32369</th>\n",
       "      <td>U10001</td>\n",
       "      <td>A</td>\n",
       "      <td>5749682559</td>\n",
       "      <td>캉골 코트 메신저백 2046 카키</td>\n",
       "      <td>2021-12-07 04:03:00</td>\n",
       "      <td>패션잡화</td>\n",
       "      <td>남성가방</td>\n",
       "      <td>크로스백</td>\n",
       "    </tr>\n",
       "    <tr>\n",
       "      <th>72497</th>\n",
       "      <td>U10001</td>\n",
       "      <td>D</td>\n",
       "      <td>5140526501</td>\n",
       "      <td>[해리슨] 나그랑 배색 반지퍼 맨투맨 MJB1336</td>\n",
       "      <td>2021-12-08 08:46:00</td>\n",
       "      <td>패션의류</td>\n",
       "      <td>남성의류</td>\n",
       "      <td>티셔츠</td>\n",
       "    </tr>\n",
       "    <tr>\n",
       "      <th>10185</th>\n",
       "      <td>U10001</td>\n",
       "      <td>A</td>\n",
       "      <td>3584920847</td>\n",
       "      <td>신개념 문풍지 외풍차단 창문 문틈 창틀 바람막이 틈새막이 틈막이</td>\n",
       "      <td>2021-12-27 02:13:00</td>\n",
       "      <td>생활/건강</td>\n",
       "      <td>생활용품</td>\n",
       "      <td>생활잡화</td>\n",
       "    </tr>\n",
       "  </tbody>\n",
       "</table>\n",
       "</div>"
      ],
      "text/plain": [
       "      user_id keep_stat_cd     prod_no                              prod_nm  \\\n",
       "81182  U10001            D  4698548361             칸지샵 초음파가습기 생수병가습기 사무실가습기   \n",
       "63931  U10001            D  2625074850                   [해리슨] 댑맨투맨 MJB1354   \n",
       "32369  U10001            A  5749682559                   캉골 코트 메신저백 2046 카키   \n",
       "72497  U10001            D  5140526501         [해리슨] 나그랑 배색 반지퍼 맨투맨 MJB1336   \n",
       "10185  U10001            A  3584920847  신개념 문풍지 외풍차단 창문 문틈 창틀 바람막이 틈새막이 틈막이   \n",
       "\n",
       "            keep_reg_ymdt catg_nm_l catg_nm_m catg_nm_s  \n",
       "81182 2021-12-03 11:34:00    디지털/가전      계절가전       가습기  \n",
       "63931 2021-12-04 04:26:00       NaN       NaN       NaN  \n",
       "32369 2021-12-07 04:03:00      패션잡화      남성가방      크로스백  \n",
       "72497 2021-12-08 08:46:00      패션의류      남성의류       티셔츠  \n",
       "10185 2021-12-27 02:13:00     생활/건강      생활용품      생활잡화  "
      ]
     },
     "execution_count": 35,
     "metadata": {},
     "output_type": "execute_result"
    }
   ],
   "source": [
    "# like 데이터를 user_id, 시간 순으로 정렬\n",
    "# like 데이터는 UTC로 되어 있어, raw와 시간대 맞추기 위한 조작 필요x.\n",
    "# 사용하지 않을 칼럼 (dt) drop\n",
    "like.sort_values(by=['user_id','keep_reg_ymdt'],inplace=True)\n",
    "like['keep_reg_ymdt'] = pd.to_datetime(like['keep_reg_ymdt'])\n",
    "like.drop('dt',axis=1,inplace=True)\n",
    "like.head()"
   ]
  },
  {
   "cell_type": "code",
   "execution_count": 36,
   "metadata": {},
   "outputs": [],
   "source": [
    "# 세션의 첫 시간부터 마지막 시간+60분 사이에 like에 해당 고객의 action이 있으면 merge\n",
    "\n",
    "# raw 내 모든 데이터의 datetime과 like 내 모든 데이터의 datetime을 비교하는 것은 비효율적\n",
    "# 날짜가 같은 데이터끼리만 비교하는 것이 효율적이므로, raw와 like에 각각 date 칼럼 생성\n",
    "# but 이렇게 되면, 세션의 마지막 시간이 23시~00시 사이이고, like의 action이 00시~01시 사이에 발생한 경우 merge가 누락됨.\n",
    "# 그래서 like에 date2 (like의 datetime에서 하루를 뺀 것의 날짜) 칼럼 생성\n",
    "raw['date'] = raw['datetime'].dt.floor('d')\n",
    "like['date'] = like['keep_reg_ymdt'].dt.floor('d')\n",
    "like['date2'] = like['keep_reg_ymdt'].dt.floor('d') - timedelta(days=1)"
   ]
  },
  {
   "cell_type": "code",
   "execution_count": 37,
   "metadata": {},
   "outputs": [
    {
     "name": "stderr",
     "output_type": "stream",
     "text": [
      "/home/jipal28/anaconda3/lib/python3.9/site-packages/pandas/core/computation/expressions.py:214: UserWarning: evaluating in Python space because the '*' operator is not supported by numexpr for the bool dtype, use '&' instead.\n",
      "  warnings.warn(\n"
     ]
    }
   ],
   "source": [
    "# raw의 date와 like의 date가 일치하는 데이터끼리 merge\n",
    "# 세션의 첫 시간부터 마지막 시간+60분 사이에 like에 해당 고객의 action이 있는 것만 남김\n",
    "log_like = raw.merge(like,on=['user_id','date'],how='inner')\n",
    "log_like = log_like[((log_like['keep_reg_ymdt'] - log_like['begin_time'])>timedelta(0))*((log_like['end_time2']-log_like['keep_reg_ymdt'])>timedelta(0))==1]\n",
    "log_like.sort_values(by=['id','datetime'],inplace=True)"
   ]
  },
  {
   "cell_type": "code",
   "execution_count": 38,
   "metadata": {},
   "outputs": [
    {
     "name": "stderr",
     "output_type": "stream",
     "text": [
      "/home/jipal28/anaconda3/lib/python3.9/site-packages/pandas/core/computation/expressions.py:214: UserWarning: evaluating in Python space because the '*' operator is not supported by numexpr for the bool dtype, use '&' instead.\n",
      "  warnings.warn(\n"
     ]
    }
   ],
   "source": [
    "# raw의 date와 like의 date2 (like의 date에서 1일 뺀 것)가 일치하는 데이터끼리 merge\n",
    "# 세션의 첫 시간부터 마지막 시간+60분 사이에 like에 해당 고객의 action이 있는 것만 남김\n",
    "log_like2 = raw.merge(like,left_on=['user_id','date'],right_on=['user_id','date2'],how='inner')\n",
    "log_like2 = log_like2[((log_like2['keep_reg_ymdt'] - log_like2['begin_time'])>timedelta(0))*((log_like2['end_time2']-log_like2['keep_reg_ymdt'])>timedelta(0))==1]\n",
    "log_like2.sort_values(by=['id','datetime'],inplace=True)"
   ]
  },
  {
   "cell_type": "code",
   "execution_count": 39,
   "metadata": {},
   "outputs": [],
   "source": [
    "# 위 두 merge 데이터 합침\n",
    "log_like = pd.concat([log_like,log_like2],axis=0)\n",
    "\n",
    "# 각 세션별로,like action과 시간 상 가장 가까운 로그에 매칭시킴\n",
    "log_like['diff'] = ((log_like['keep_reg_ymdt'] - log_like['datetime']).astype('timedelta64[s]'))**2\n",
    "log_like = log_like.merge(pd.DataFrame(log_like.groupby('id')['diff'].min()).rename(columns={'diff':'min_diff'}),on='id',how='left')\n",
    "log_like = log_like[(log_like['diff']-log_like['min_diff'])**2<0.1]\n",
    "log_like.drop_duplicates(subset=['id','keep_reg_ymdt'],keep='last',inplace=True)\n",
    "log_like.drop('min_diff',axis=1,inplace=True)\n",
    "log_like['like_id'] = 1"
   ]
  },
  {
   "cell_type": "code",
   "execution_count": 40,
   "metadata": {},
   "outputs": [
    {
     "data": {
      "text/plain": [
       "0.2465842621029442"
      ]
     },
     "execution_count": 40,
     "metadata": {},
     "output_type": "execute_result"
    }
   ],
   "source": [
    "# 전체 like 데이터 중 약 24.7% 정도만 매칭되는 로그 존재 \n",
    "# (나머지는 웹 상에서의 action으로 추정)\n",
    "log_like.shape[0] / like.shape[0]"
   ]
  },
  {
   "cell_type": "code",
   "execution_count": 41,
   "metadata": {},
   "outputs": [],
   "source": [
    "# 사용하지 않을 칼럼들 드랍\n",
    "# 이후 전체 로그 데이터와 병합될 때 혼동을 피하기 위해 칼럼 이름들 앞에 'like' 붙임\n",
    "log_like.drop(['like_id','end_time2','date','date2','date_x','date_y'],axis=1,inplace=True)\n",
    "log_like.rename(columns={'keep_stat_cd':'like_keep_stat_cd','prod_no':'like_prod_no','prod_nm':'like_prod_nm','keep_reg_ymdt':'like_keep_reg_ymdt',\n",
    "                                    'catg_nm_l':'like_catg_nm_l','catg_nm_m':'like_catg_nm_m','catg_nm_s':'like_catg_nm_s','diff':'log_like_time_diff'},inplace=True)"
   ]
  },
  {
   "cell_type": "code",
   "execution_count": 42,
   "metadata": {},
   "outputs": [
    {
     "data": {
      "text/plain": [
       "Index(['datetime', 'user_id', 'sex', 'age', 'url', 'device', 'page',\n",
       "       'Labeling', 'session', 'id', 'page_stay_time', 'session_length',\n",
       "       'session_nth', 'prev_Labeling', 'prev_page', 'begin_time', 'end_time',\n",
       "       'like_keep_stat_cd', 'like_prod_no', 'like_prod_nm',\n",
       "       'like_keep_reg_ymdt', 'like_catg_nm_l', 'like_catg_nm_m',\n",
       "       'like_catg_nm_s', 'log_like_time_diff'],\n",
       "      dtype='object')"
      ]
     },
     "execution_count": 42,
     "metadata": {},
     "output_type": "execute_result"
    }
   ],
   "source": [
    "log_like.columns"
   ]
  },
  {
   "cell_type": "markdown",
   "metadata": {},
   "source": [
    "## 2.3. Purchase 데이터와 merge"
   ]
  },
  {
   "cell_type": "markdown",
   "metadata": {},
   "source": [
    "> purchase.csv에서 특정 고객의 action이 발생한 경우, 해당 고객의 세션들 중 해당 시간을 포함하는 세션이 있는지 확인\n",
    "\n",
    "\n",
    "\n",
    "> 포함되는 세션이 있으면, 해당 세션 내에서 시간 상 가장 가까운 로그에 매칭"
   ]
  },
  {
   "cell_type": "code",
   "execution_count": 43,
   "metadata": {},
   "outputs": [
    {
     "data": {
      "text/html": [
       "<div>\n",
       "<style scoped>\n",
       "    .dataframe tbody tr th:only-of-type {\n",
       "        vertical-align: middle;\n",
       "    }\n",
       "\n",
       "    .dataframe tbody tr th {\n",
       "        vertical-align: top;\n",
       "    }\n",
       "\n",
       "    .dataframe thead th {\n",
       "        text-align: right;\n",
       "    }\n",
       "</style>\n",
       "<table border=\"1\" class=\"dataframe\">\n",
       "  <thead>\n",
       "    <tr style=\"text-align: right;\">\n",
       "      <th></th>\n",
       "      <th>user_id</th>\n",
       "      <th>prod_order_no</th>\n",
       "      <th>order_no</th>\n",
       "      <th>order_ymdt</th>\n",
       "      <th>prod_no</th>\n",
       "      <th>prod_nm</th>\n",
       "      <th>gmv</th>\n",
       "      <th>flag</th>\n",
       "      <th>catg_nm_l</th>\n",
       "      <th>catg_nm_m</th>\n",
       "      <th>catg_nm_s</th>\n",
       "    </tr>\n",
       "  </thead>\n",
       "  <tbody>\n",
       "    <tr>\n",
       "      <th>0</th>\n",
       "      <td>U13726</td>\n",
       "      <td>2021121350387480</td>\n",
       "      <td>2021121384586370</td>\n",
       "      <td>21-12-13 16:08</td>\n",
       "      <td>5776267167</td>\n",
       "      <td>(정기 구독) 삼다수 그린(무라벨) 2.0L 12개입</td>\n",
       "      <td>11800</td>\n",
       "      <td>주문</td>\n",
       "      <td>식품</td>\n",
       "      <td>음료</td>\n",
       "      <td>생수</td>\n",
       "    </tr>\n",
       "    <tr>\n",
       "      <th>1</th>\n",
       "      <td>U11109</td>\n",
       "      <td>2021121357168770</td>\n",
       "      <td>2021121388670100</td>\n",
       "      <td>21-12-13 19:29</td>\n",
       "      <td>442645012</td>\n",
       "      <td>1+1 나투젠 아쿠아 수용성 러브 바디 글라이드 마사지 젤 450ml / 최신유통기한</td>\n",
       "      <td>1990</td>\n",
       "      <td>주문</td>\n",
       "      <td>화장품/미용</td>\n",
       "      <td>바디케어</td>\n",
       "      <td>바디슬리밍</td>\n",
       "    </tr>\n",
       "    <tr>\n",
       "      <th>2</th>\n",
       "      <td>U12073</td>\n",
       "      <td>2021121358786900</td>\n",
       "      <td>2021121389670600</td>\n",
       "      <td>21-12-13 20:16</td>\n",
       "      <td>5819493126</td>\n",
       "      <td>콜핑 남성 겨울 본딩 기모 등산바지 코나드(CL)(남) KSP9550M</td>\n",
       "      <td>36400</td>\n",
       "      <td>주문</td>\n",
       "      <td>스포츠/레저</td>\n",
       "      <td>등산</td>\n",
       "      <td>등산의류</td>\n",
       "    </tr>\n",
       "    <tr>\n",
       "      <th>3</th>\n",
       "      <td>U11994</td>\n",
       "      <td>2021121411367550</td>\n",
       "      <td>2021121424919800</td>\n",
       "      <td>21-12-14 21:40</td>\n",
       "      <td>4823519851</td>\n",
       "      <td>국산 2021 베이직 멜란지 골지 여자양말 무지 중장목 컬러 가을 학생 흰 패션양말...</td>\n",
       "      <td>1650</td>\n",
       "      <td>주문</td>\n",
       "      <td>패션잡화</td>\n",
       "      <td>양말</td>\n",
       "      <td>여성양말</td>\n",
       "    </tr>\n",
       "    <tr>\n",
       "      <th>4</th>\n",
       "      <td>U13461</td>\n",
       "      <td>2021121411963900</td>\n",
       "      <td>2021121425276270</td>\n",
       "      <td>21-12-14 21:56</td>\n",
       "      <td>4329911012</td>\n",
       "      <td>여성 국산 면레깅스 스판레깅스 7부 8부 9부 기모레깅스 겨울융털타이즈 기본아이템</td>\n",
       "      <td>5200</td>\n",
       "      <td>주문</td>\n",
       "      <td>패션의류</td>\n",
       "      <td>여성의류</td>\n",
       "      <td>레깅스</td>\n",
       "    </tr>\n",
       "  </tbody>\n",
       "</table>\n",
       "</div>"
      ],
      "text/plain": [
       "  user_id     prod_order_no          order_no      order_ymdt     prod_no  \\\n",
       "0  U13726  2021121350387480  2021121384586370  21-12-13 16:08  5776267167   \n",
       "1  U11109  2021121357168770  2021121388670100  21-12-13 19:29   442645012   \n",
       "2  U12073  2021121358786900  2021121389670600  21-12-13 20:16  5819493126   \n",
       "3  U11994  2021121411367550  2021121424919800  21-12-14 21:40  4823519851   \n",
       "4  U13461  2021121411963900  2021121425276270  21-12-14 21:56  4329911012   \n",
       "\n",
       "                                             prod_nm    gmv flag catg_nm_l  \\\n",
       "0                      (정기 구독) 삼다수 그린(무라벨) 2.0L 12개입  11800   주문        식품   \n",
       "1    1+1 나투젠 아쿠아 수용성 러브 바디 글라이드 마사지 젤 450ml / 최신유통기한   1990   주문    화장품/미용   \n",
       "2            콜핑 남성 겨울 본딩 기모 등산바지 코나드(CL)(남) KSP9550M  36400   주문    스포츠/레저   \n",
       "3  국산 2021 베이직 멜란지 골지 여자양말 무지 중장목 컬러 가을 학생 흰 패션양말...   1650   주문      패션잡화   \n",
       "4      여성 국산 면레깅스 스판레깅스 7부 8부 9부 기모레깅스 겨울융털타이즈 기본아이템   5200   주문      패션의류   \n",
       "\n",
       "  catg_nm_m catg_nm_s  \n",
       "0        음료        생수  \n",
       "1      바디케어     바디슬리밍  \n",
       "2        등산      등산의류  \n",
       "3        양말      여성양말  \n",
       "4      여성의류       레깅스  "
      ]
     },
     "execution_count": 43,
     "metadata": {},
     "output_type": "execute_result"
    }
   ],
   "source": [
    "purchase.head()"
   ]
  },
  {
   "cell_type": "code",
   "execution_count": 44,
   "metadata": {},
   "outputs": [
    {
     "data": {
      "text/html": [
       "<div>\n",
       "<style scoped>\n",
       "    .dataframe tbody tr th:only-of-type {\n",
       "        vertical-align: middle;\n",
       "    }\n",
       "\n",
       "    .dataframe tbody tr th {\n",
       "        vertical-align: top;\n",
       "    }\n",
       "\n",
       "    .dataframe thead th {\n",
       "        text-align: right;\n",
       "    }\n",
       "</style>\n",
       "<table border=\"1\" class=\"dataframe\">\n",
       "  <thead>\n",
       "    <tr style=\"text-align: right;\">\n",
       "      <th></th>\n",
       "      <th>user_id</th>\n",
       "      <th>prod_order_no</th>\n",
       "      <th>order_no</th>\n",
       "      <th>order_ymdt</th>\n",
       "      <th>prod_no</th>\n",
       "      <th>prod_nm</th>\n",
       "      <th>gmv</th>\n",
       "      <th>flag</th>\n",
       "      <th>catg_nm_l</th>\n",
       "      <th>catg_nm_m</th>\n",
       "      <th>catg_nm_s</th>\n",
       "    </tr>\n",
       "  </thead>\n",
       "  <tbody>\n",
       "    <tr>\n",
       "      <th>18189</th>\n",
       "      <td>U10001</td>\n",
       "      <td>2021121299854660</td>\n",
       "      <td>2021121260930360</td>\n",
       "      <td>2021-12-12 16:40:00</td>\n",
       "      <td>2341342392</td>\n",
       "      <td>휴지걸이 욕실 화장실 스텐 접착식</td>\n",
       "      <td>6800</td>\n",
       "      <td>주문</td>\n",
       "      <td>생활/건강</td>\n",
       "      <td>욕실용품</td>\n",
       "      <td>욕실용기/홀더</td>\n",
       "    </tr>\n",
       "    <tr>\n",
       "      <th>27586</th>\n",
       "      <td>U10001</td>\n",
       "      <td>2021121299854650</td>\n",
       "      <td>2021121260930360</td>\n",
       "      <td>2021-12-12 16:40:00</td>\n",
       "      <td>2341342392</td>\n",
       "      <td>휴지걸이 욕실 화장실 스텐 접착식</td>\n",
       "      <td>4300</td>\n",
       "      <td>주문</td>\n",
       "      <td>생활/건강</td>\n",
       "      <td>욕실용품</td>\n",
       "      <td>욕실용기/홀더</td>\n",
       "    </tr>\n",
       "    <tr>\n",
       "      <th>103086</th>\n",
       "      <td>U10001</td>\n",
       "      <td>2021121299854670</td>\n",
       "      <td>2021121260930360</td>\n",
       "      <td>2021-12-12 16:40:00</td>\n",
       "      <td>2341342392</td>\n",
       "      <td>휴지걸이 욕실 화장실 스텐 접착식</td>\n",
       "      <td>2500</td>\n",
       "      <td>주문</td>\n",
       "      <td>생활/건강</td>\n",
       "      <td>욕실용품</td>\n",
       "      <td>욕실용기/홀더</td>\n",
       "    </tr>\n",
       "    <tr>\n",
       "      <th>35219</th>\n",
       "      <td>U10001</td>\n",
       "      <td>2021121210357650</td>\n",
       "      <td>2021121261235960</td>\n",
       "      <td>2021-12-12 16:57:00</td>\n",
       "      <td>5128769981</td>\n",
       "      <td>비에스에스 기프트 국산 식약처 의약외품 KFAD 비말차단 일회용 덴탈 마스크 50매</td>\n",
       "      <td>39600</td>\n",
       "      <td>주문</td>\n",
       "      <td>생활/건강</td>\n",
       "      <td>건강관리용품</td>\n",
       "      <td>먼지차단마스크</td>\n",
       "    </tr>\n",
       "    <tr>\n",
       "      <th>13293</th>\n",
       "      <td>U10001</td>\n",
       "      <td>2021122963744780</td>\n",
       "      <td>2021122956598510</td>\n",
       "      <td>2021-12-29 18:07:00</td>\n",
       "      <td>6089361331</td>\n",
       "      <td>타이틀리스트 골프공 Pro v1 프로 v1x 홀인원 기념품 선물 행사 용품 인쇄 제...</td>\n",
       "      <td>38000</td>\n",
       "      <td>주문</td>\n",
       "      <td>스포츠/레저</td>\n",
       "      <td>골프</td>\n",
       "      <td>골프공</td>\n",
       "    </tr>\n",
       "  </tbody>\n",
       "</table>\n",
       "</div>"
      ],
      "text/plain": [
       "       user_id     prod_order_no          order_no          order_ymdt  \\\n",
       "18189   U10001  2021121299854660  2021121260930360 2021-12-12 16:40:00   \n",
       "27586   U10001  2021121299854650  2021121260930360 2021-12-12 16:40:00   \n",
       "103086  U10001  2021121299854670  2021121260930360 2021-12-12 16:40:00   \n",
       "35219   U10001  2021121210357650  2021121261235960 2021-12-12 16:57:00   \n",
       "13293   U10001  2021122963744780  2021122956598510 2021-12-29 18:07:00   \n",
       "\n",
       "           prod_no                                            prod_nm    gmv  \\\n",
       "18189   2341342392                                 휴지걸이 욕실 화장실 스텐 접착식   6800   \n",
       "27586   2341342392                                 휴지걸이 욕실 화장실 스텐 접착식   4300   \n",
       "103086  2341342392                                 휴지걸이 욕실 화장실 스텐 접착식   2500   \n",
       "35219   5128769981     비에스에스 기프트 국산 식약처 의약외품 KFAD 비말차단 일회용 덴탈 마스크 50매  39600   \n",
       "13293   6089361331  타이틀리스트 골프공 Pro v1 프로 v1x 홀인원 기념품 선물 행사 용품 인쇄 제...  38000   \n",
       "\n",
       "       flag catg_nm_l catg_nm_m catg_nm_s  \n",
       "18189    주문     생활/건강      욕실용품   욕실용기/홀더  \n",
       "27586    주문     생활/건강      욕실용품   욕실용기/홀더  \n",
       "103086   주문     생활/건강      욕실용품   욕실용기/홀더  \n",
       "35219    주문     생활/건강    건강관리용품   먼지차단마스크  \n",
       "13293    주문    스포츠/레저        골프       골프공  "
      ]
     },
     "execution_count": 44,
     "metadata": {},
     "output_type": "execute_result"
    }
   ],
   "source": [
    "# purchase 데이터를 user_id, 시간 순으로 정렬\n",
    "# purchase 데이터는 UTC로 되어 있어, raw와 시간대 맞추기 위한 조작 필요x\n",
    "# purchase 데이터의 datetime이 '21년 이런 식으로 되어 있어, 앞에 '20' 붙여줌\n",
    "purchase.sort_values(by=['user_id','order_ymdt'],inplace=True)\n",
    "purchase['order_ymdt'] = pd.to_datetime(purchase['order_ymdt'].apply(lambda x: '20'+x))\n",
    "purchase.head()"
   ]
  },
  {
   "cell_type": "code",
   "execution_count": 45,
   "metadata": {},
   "outputs": [],
   "source": [
    "# 세션의 첫 시간부터 마지막 시간+60분 사이에 purchase에 해당 고객의 action이 있으면 merge\n",
    "\n",
    "# raw 내 모든 데이터의 datetime과 purchase 내 모든 데이터의 datetime을 비교하는 것은 비효율적\n",
    "# 날짜가 같은 데이터끼리만 비교하는 것이 효율적이므로, raw와 purchase에 각각 date 칼럼 생성\n",
    "# but 이렇게 되면, 세션의 마지막 시간이 23시~00시 사이이고, purchase의 action이 00시~01시 사이에 발생한 경우 merge가 누락됨.\n",
    "# 그래서 purchase에 date2 (purchase의 datetime에서 하루를 뺀 것의 날짜) 칼럼 생성\n",
    "raw['date'] = raw['datetime'].dt.floor('d')\n",
    "purchase['date'] = purchase['order_ymdt'].dt.floor('d')\n",
    "purchase['date2'] = purchase['order_ymdt'].dt.floor('d') - timedelta(days=1)"
   ]
  },
  {
   "cell_type": "code",
   "execution_count": 46,
   "metadata": {},
   "outputs": [
    {
     "name": "stderr",
     "output_type": "stream",
     "text": [
      "/home/jipal28/anaconda3/lib/python3.9/site-packages/pandas/core/computation/expressions.py:214: UserWarning: evaluating in Python space because the '*' operator is not supported by numexpr for the bool dtype, use '&' instead.\n",
      "  warnings.warn(\n"
     ]
    }
   ],
   "source": [
    "# raw의 date와 purchase의 date가 일치하는 데이터끼리 merge\n",
    "# 세션의 첫 시간부터 마지막 시간+60분 사이에 purchase에 해당 고객의 action이 있는 것만 남김\n",
    "log_purchase = raw.merge(purchase,on=['user_id','date'],how='inner')\n",
    "log_purchase = log_purchase[((log_purchase['order_ymdt'] - log_purchase['begin_time'])>timedelta(0))*((log_purchase['end_time2']-log_purchase['order_ymdt'])>timedelta(0))==1]\n",
    "log_purchase.sort_values(by=['id','datetime'],inplace=True)"
   ]
  },
  {
   "cell_type": "code",
   "execution_count": 47,
   "metadata": {},
   "outputs": [
    {
     "name": "stderr",
     "output_type": "stream",
     "text": [
      "/home/jipal28/anaconda3/lib/python3.9/site-packages/pandas/core/computation/expressions.py:214: UserWarning: evaluating in Python space because the '*' operator is not supported by numexpr for the bool dtype, use '&' instead.\n",
      "  warnings.warn(\n"
     ]
    }
   ],
   "source": [
    "# raw의 date와 purchase의 date2 (purchase의 date에서 1일 뺀 것)가 일치하는 데이터끼리 merge\n",
    "# 세션의 첫 시간부터 마지막 시간+60분 사이에 purchase에 해당 고객의 action이 있는 것만 남김\n",
    "log_purchase2 = raw.merge(purchase,left_on=['user_id','date'],right_on=['user_id','date2'],how='inner')\n",
    "log_purchase2 = log_purchase2[((log_purchase2['order_ymdt'] - log_purchase2['begin_time'])>timedelta(0))*((log_purchase2['end_time2']-log_purchase2['order_ymdt'])>timedelta(0))==1]\n",
    "log_purchase2.sort_values(by=['id','datetime'],inplace=True)"
   ]
  },
  {
   "cell_type": "code",
   "execution_count": 48,
   "metadata": {},
   "outputs": [],
   "source": [
    "# 위 두 merge 데이터 합침\n",
    "log_purchase = pd.concat([log_purchase,log_purchase2],axis=0)\n",
    "\n",
    "# 각 세션별로,purchase action과 시간 상 가장 가까운 로그에 매칭시킴\n",
    "log_purchase['diff'] = ((log_purchase['order_ymdt'] - log_purchase['datetime']).astype('timedelta64[s]'))**2\n",
    "log_purchase = log_purchase.merge(pd.DataFrame(log_purchase.groupby('id')['diff'].min()).rename(columns={'diff':'min_diff'}),on='id',how='left')\n",
    "log_purchase = log_purchase[(log_purchase['diff']-log_purchase['min_diff'])**2<0.1]\n",
    "log_purchase.drop_duplicates(subset=['id','order_ymdt'],keep='last',inplace=True)\n",
    "log_purchase.drop('min_diff',axis=1,inplace=True)\n",
    "log_purchase['purchase_id'] = 1"
   ]
  },
  {
   "cell_type": "code",
   "execution_count": 49,
   "metadata": {},
   "outputs": [
    {
     "data": {
      "text/plain": [
       "0.34646126547566236"
      ]
     },
     "execution_count": 49,
     "metadata": {},
     "output_type": "execute_result"
    }
   ],
   "source": [
    "# 전체 purchase 데이터 중 약 34.6% 정도만 매칭되는 로그 존재 \n",
    "# (나머지는 웹 상에서의 action으로 추정)\n",
    "log_purchase.shape[0] / purchase.shape[0]"
   ]
  },
  {
   "cell_type": "code",
   "execution_count": 50,
   "metadata": {},
   "outputs": [],
   "source": [
    "# 사용하지 않을 칼럼들 드랍\n",
    "# 이후 전체 로그 데이터와 병합될 때 혼동을 피하기 위해 칼럼 이름들 앞에 'purchase' 붙임\n",
    "log_purchase.drop(['purchase_id','end_time2','date','date2','date_x','date_y'],axis=1,inplace=True)\n",
    "log_purchase.rename(columns={'prod_order_no':'purchase_prod_order_no','order_no':'purchase_order_no','order_ymdt':'purchase_order_ymdt',\n",
    "                                            'prod_no':'purchase_prod_no','prod_nm':'purchase_prod_nm','gmv':'purchase_gmv','flag':'purchase_flag',\n",
    "                                            'catg_nm_l':'purchase_catg_nm_l','catg_nm_m':'purchase_catg_nm_m','catg_nm_s':'purchase_catg_nm_s','diff':'log_purchase_time_diff'},inplace=True)"
   ]
  },
  {
   "cell_type": "code",
   "execution_count": 51,
   "metadata": {},
   "outputs": [
    {
     "data": {
      "text/plain": [
       "Index(['datetime', 'user_id', 'sex', 'age', 'url', 'device', 'page',\n",
       "       'Labeling', 'session', 'id', 'page_stay_time', 'session_length',\n",
       "       'session_nth', 'prev_Labeling', 'prev_page', 'begin_time', 'end_time',\n",
       "       'purchase_prod_order_no', 'purchase_order_no', 'purchase_order_ymdt',\n",
       "       'purchase_prod_no', 'purchase_prod_nm', 'purchase_gmv', 'purchase_flag',\n",
       "       'purchase_catg_nm_l', 'purchase_catg_nm_m', 'purchase_catg_nm_s',\n",
       "       'log_purchase_time_diff'],\n",
       "      dtype='object')"
      ]
     },
     "execution_count": 51,
     "metadata": {},
     "output_type": "execute_result"
    }
   ],
   "source": [
    "log_purchase.columns"
   ]
  },
  {
   "cell_type": "markdown",
   "metadata": {},
   "source": [
    "## 2.4. raw, cart, like, purchase 전체 merge"
   ]
  },
  {
   "cell_type": "code",
   "execution_count": 52,
   "metadata": {},
   "outputs": [
    {
     "data": {
      "text/html": [
       "<div>\n",
       "<style scoped>\n",
       "    .dataframe tbody tr th:only-of-type {\n",
       "        vertical-align: middle;\n",
       "    }\n",
       "\n",
       "    .dataframe tbody tr th {\n",
       "        vertical-align: top;\n",
       "    }\n",
       "\n",
       "    .dataframe thead th {\n",
       "        text-align: right;\n",
       "    }\n",
       "</style>\n",
       "<table border=\"1\" class=\"dataframe\">\n",
       "  <thead>\n",
       "    <tr style=\"text-align: right;\">\n",
       "      <th></th>\n",
       "      <th>datetime</th>\n",
       "      <th>user_id</th>\n",
       "      <th>sex</th>\n",
       "      <th>age</th>\n",
       "      <th>url</th>\n",
       "      <th>device</th>\n",
       "      <th>page</th>\n",
       "      <th>Labeling</th>\n",
       "      <th>session</th>\n",
       "      <th>id</th>\n",
       "      <th>...</th>\n",
       "      <th>purchase_order_no</th>\n",
       "      <th>purchase_order_ymdt</th>\n",
       "      <th>purchase_prod_no</th>\n",
       "      <th>purchase_prod_nm</th>\n",
       "      <th>purchase_gmv</th>\n",
       "      <th>purchase_flag</th>\n",
       "      <th>purchase_catg_nm_l</th>\n",
       "      <th>purchase_catg_nm_m</th>\n",
       "      <th>purchase_catg_nm_s</th>\n",
       "      <th>log_purchase_time_diff</th>\n",
       "    </tr>\n",
       "  </thead>\n",
       "  <tbody>\n",
       "    <tr>\n",
       "      <th>0</th>\n",
       "      <td>2021-12-01 06:31:59</td>\n",
       "      <td>U10001</td>\n",
       "      <td>M</td>\n",
       "      <td>31</td>\n",
       "      <td>https://msearch.shopping.naver.com/search/all?...</td>\n",
       "      <td>Mozilla/5.0 (Linux; Android 11; SM-G998N Build...</td>\n",
       "      <td>['모바일_쇼핑', '검색_쇼핑검색', '쇼핑검색(도구필터링제외)']</td>\n",
       "      <td>5</td>\n",
       "      <td>0</td>\n",
       "      <td>U10001_0</td>\n",
       "      <td>...</td>\n",
       "      <td>NaN</td>\n",
       "      <td>NaT</td>\n",
       "      <td>NaN</td>\n",
       "      <td>NaN</td>\n",
       "      <td>NaN</td>\n",
       "      <td>NaN</td>\n",
       "      <td>NaN</td>\n",
       "      <td>NaN</td>\n",
       "      <td>NaN</td>\n",
       "      <td>NaN</td>\n",
       "    </tr>\n",
       "  </tbody>\n",
       "</table>\n",
       "<p>1 rows × 46 columns</p>\n",
       "</div>"
      ],
      "text/plain": [
       "             datetime user_id sex  age  \\\n",
       "0 2021-12-01 06:31:59  U10001   M   31   \n",
       "\n",
       "                                                 url  \\\n",
       "0  https://msearch.shopping.naver.com/search/all?...   \n",
       "\n",
       "                                              device  \\\n",
       "0  Mozilla/5.0 (Linux; Android 11; SM-G998N Build...   \n",
       "\n",
       "                                     page  Labeling  session        id  ...  \\\n",
       "0  ['모바일_쇼핑', '검색_쇼핑검색', '쇼핑검색(도구필터링제외)']         5        0  U10001_0  ...   \n",
       "\n",
       "  purchase_order_no  purchase_order_ymdt  purchase_prod_no  purchase_prod_nm  \\\n",
       "0               NaN                  NaT               NaN               NaN   \n",
       "\n",
       "  purchase_gmv purchase_flag purchase_catg_nm_l purchase_catg_nm_m  \\\n",
       "0          NaN           NaN                NaN                NaN   \n",
       "\n",
       "  purchase_catg_nm_s  log_purchase_time_diff  \n",
       "0                NaN                     NaN  \n",
       "\n",
       "[1 rows x 46 columns]"
      ]
     },
     "execution_count": 52,
     "metadata": {},
     "output_type": "execute_result"
    }
   ],
   "source": [
    "# raw에 log_cart, log_like, log_purchase 병합\n",
    "# 병합 시, raw와 공통으로 갖고 있는 칼럼들은 제거하고 merge \n",
    "# (id랑 session_nth 기준으로 병합하므로, 이들 칼럼은 공통으로 갖고 있어도 제거x)\n",
    "raw_all = raw.merge(log_cart.drop(list((set(log_cart.columns).intersection(set(raw.columns))).difference(set(['id','session_nth']))),axis=1),on=['id','session_nth'],how='left')\n",
    "raw_all = raw_all.merge(log_like.drop(list((set(log_like.columns).intersection(set(raw.columns))).difference(set(['id','session_nth']))),axis=1),on=['id','session_nth'],how='left')\n",
    "raw_all = raw_all.merge(log_purchase.drop(list((set(log_purchase.columns).intersection(set(raw.columns))).difference(set(['id','session_nth']))),axis=1),on=['id','session_nth'],how='left')\n",
    "raw_all.head(1)"
   ]
  },
  {
   "cell_type": "code",
   "execution_count": 53,
   "metadata": {},
   "outputs": [],
   "source": [
    "# cart_id 칼럼(해당 세션에 cart action이 한번이라도 있으면 1, 없으면 0) 생성\n",
    "# like_id 칼럼(해당 세션에 like action이 한번이라도 있으면 1, 없으면 0) 생성\n",
    "# purchase_id 칼럼(해당 세션에 purchase action이 한번이라도 있으면 1, 없으면 0) 생성\n",
    "raw_all = raw_all.merge(pd.DataFrame(raw_all.groupby('id')['cart_event_ymdt'].count().gt(0).astype(float)).rename(columns={'cart_event_ymdt':'cart_id'}),on='id',how='left')\n",
    "raw_all = raw_all.merge(pd.DataFrame(raw_all.groupby('id')['like_keep_reg_ymdt'].count().gt(0).astype(float)).rename(columns={'like_keep_reg_ymdt':'like_id'}),on='id',how='left')\n",
    "raw_all = raw_all.merge(pd.DataFrame(raw_all.groupby('id')['purchase_order_ymdt'].count().gt(0).astype(float)).rename(columns={'purchase_order_ymdt':'purchase_id'}),on='id',how='left')"
   ]
  },
  {
   "cell_type": "code",
   "execution_count": 54,
   "metadata": {},
   "outputs": [],
   "source": [
    "# raw_all에서 더 이상 안 쓰일 칼럼 (end_time2, date) 제거\n",
    "raw_all.drop(['end_time2','date'],axis=1,inplace=True)"
   ]
  },
  {
   "cell_type": "code",
   "execution_count": 55,
   "metadata": {},
   "outputs": [
    {
     "data": {
      "text/plain": [
       "Index(['datetime', 'user_id', 'sex', 'age', 'url', 'device', 'page',\n",
       "       'Labeling', 'session', 'id', 'page_stay_time', 'session_length',\n",
       "       'session_nth', 'prev_Labeling', 'prev_page', 'begin_time', 'end_time',\n",
       "       'cart_prod_no', 'cart_prod_nm', 'cart_event_type', 'cart_event_ymdt',\n",
       "       'cart_catg_nm_l', 'cart_catg_nm_m', 'cart_catg_nm_s',\n",
       "       'log_cart_time_diff', 'like_keep_stat_cd', 'like_prod_no',\n",
       "       'like_prod_nm', 'like_keep_reg_ymdt', 'like_catg_nm_l',\n",
       "       'like_catg_nm_m', 'like_catg_nm_s', 'log_like_time_diff',\n",
       "       'purchase_prod_order_no', 'purchase_order_no', 'purchase_order_ymdt',\n",
       "       'purchase_prod_no', 'purchase_prod_nm', 'purchase_gmv', 'purchase_flag',\n",
       "       'purchase_catg_nm_l', 'purchase_catg_nm_m', 'purchase_catg_nm_s',\n",
       "       'log_purchase_time_diff', 'cart_id', 'like_id', 'purchase_id'],\n",
       "      dtype='object')"
      ]
     },
     "execution_count": 55,
     "metadata": {},
     "output_type": "execute_result"
    }
   ],
   "source": [
    "raw_all.columns"
   ]
  },
  {
   "cell_type": "markdown",
   "metadata": {},
   "source": [
    "# 3. Outlier 세션 제거"
   ]
  },
  {
   "cell_type": "code",
   "execution_count": 56,
   "metadata": {},
   "outputs": [],
   "source": [
    "# 길이가 2 이하인 세션 제거\n",
    "raw_all = raw_all[raw_all['session_length']>2]"
   ]
  },
  {
   "cell_type": "code",
   "execution_count": 57,
   "metadata": {},
   "outputs": [
    {
     "data": {
      "text/plain": [
       "(5003128, 47)"
      ]
     },
     "execution_count": 57,
     "metadata": {},
     "output_type": "execute_result"
    }
   ],
   "source": [
    "raw_all.shape"
   ]
  },
  {
   "cell_type": "code",
   "execution_count": 58,
   "metadata": {},
   "outputs": [],
   "source": [
    "# distinct_page_num(해당 세션 내에 몇 개의 페이지(라벨보다 종류 많음)가 있는지) 칼럼 생성\n",
    "# distinct_label_num(해당 세션 내에 몇 개의 라벨(페이지보다 종류 적음)가 있는지) 칼럼 생성\n",
    "raw_all = raw_all.merge(pd.DataFrame(raw_all.groupby('id')['page'].nunique()).rename(columns={'page':'distinct_page_num'}),on='id',how='left')\n",
    "raw_all = raw_all.merge(pd.DataFrame(raw_all.groupby('id')['Labeling'].nunique()).rename(columns={'Labeling':'distinct_label_num'}),on='id',how='left')"
   ]
  },
  {
   "cell_type": "code",
   "execution_count": 59,
   "metadata": {},
   "outputs": [],
   "source": [
    "# 모두 같은 페이지로만 이루어진 세션 제거\n",
    "raw_all = raw_all[raw_all['distinct_page_num']>1]"
   ]
  },
  {
   "cell_type": "code",
   "execution_count": 60,
   "metadata": {},
   "outputs": [
    {
     "data": {
      "text/plain": [
       "(4946055, 49)"
      ]
     },
     "execution_count": 60,
     "metadata": {},
     "output_type": "execute_result"
    }
   ],
   "source": [
    "raw_all.shape"
   ]
  },
  {
   "cell_type": "markdown",
   "metadata": {},
   "source": [
    "# 4. 세션별 feature 생성"
   ]
  },
  {
   "cell_type": "markdown",
   "metadata": {},
   "source": [
    "## 4.1. 로그/세션 내 체류시간 관련"
   ]
  },
  {
   "cell_type": "code",
   "execution_count": 61,
   "metadata": {},
   "outputs": [],
   "source": [
    "# max_page_stay_time (세션 내 로그 최대 체류 시간) 칼럼 생성\n",
    "# min_page_stay_time (세션 내 로그 최소 체류 시간) 칼럼 생성\n",
    "raw_all = raw_all.merge(pd.DataFrame(raw_all.groupby('id')['page_stay_time'].max()).rename(columns={'page_stay_time':'max_page_stay_time'}),on='id',how='left')\n",
    "raw_all = raw_all.merge(pd.DataFrame(raw_all.groupby('id')['page_stay_time'].min()).rename(columns={'page_stay_time':'min_page_stay_time'}),on='id',how='left')"
   ]
  },
  {
   "cell_type": "code",
   "execution_count": 62,
   "metadata": {},
   "outputs": [],
   "source": [
    "# mean_page_stay_time (세션 내 로그 평균 체류 시간) 칼럼 생성\n",
    "# 그냥 .groupby.mean()하면 평균 계산의 분모가 1씩 줄어든 상태로 계산됨\n",
    "# 그래서 .groupby.sum()을 .groupby.count()+1 로 나눠서 구함\n",
    "raw_all = raw_all.merge(pd.DataFrame(raw_all.groupby('id')['page_stay_time'].sum() / (raw_all.groupby('id')['page_stay_time'].count()+1)).rename(columns={'page_stay_time':'mean_page_stay_time'}),on='id',how='left')"
   ]
  },
  {
   "cell_type": "code",
   "execution_count": 63,
   "metadata": {},
   "outputs": [],
   "source": [
    "# session_stay_time (해당 세션 내 총 체류 시간) 칼럼 생성\n",
    "raw_all['session_stay_time'] = raw_all['end_time'] - raw_all['begin_time']"
   ]
  },
  {
   "cell_type": "code",
   "execution_count": 64,
   "metadata": {},
   "outputs": [],
   "source": [
    "# 생성된 체류시간 칼럼들의 dtype은 모두 timedelta\n",
    "# 분석의 편의성을 위해 해당 칼럼들을 모두 초 단위로 float 자료형으로 변환\n",
    "raw_all['page_stay_time'] = raw_all['page_stay_time'].astype('timedelta64[s]')\n",
    "raw_all['max_page_stay_time'] = raw_all['max_page_stay_time'].astype('timedelta64[s]')\n",
    "raw_all['min_page_stay_time'] = raw_all['min_page_stay_time'].astype('timedelta64[s]')\n",
    "raw_all['mean_page_stay_time'] = raw_all['mean_page_stay_time'].astype('timedelta64[s]')\n",
    "raw_all['session_stay_time'] = raw_all['session_stay_time'].astype('timedelta64[s]')"
   ]
  },
  {
   "cell_type": "markdown",
   "metadata": {},
   "source": [
    "## 4.2. 세션 시작으로부터의 시간"
   ]
  },
  {
   "cell_type": "code",
   "execution_count": 65,
   "metadata": {},
   "outputs": [],
   "source": [
    "# time_from_begin(해당 로그가 세션 시작 시간으로부터 얼마나 경과한 시간에 발생했는지) 칼럼 생성\n",
    "raw_all['time_from_begin'] = raw_all['datetime'] - raw_all['begin_time']"
   ]
  },
  {
   "cell_type": "code",
   "execution_count": 66,
   "metadata": {},
   "outputs": [],
   "source": [
    "# purchase_page_reach_time (21번 라벨을 방문한 경우, 해당 세션의 시작으로부터 해당 방문까지 얼마나 시간 걸렸는지) 칼럼 생성\n",
    "time_from_begin = raw_all.drop_duplicates(subset=['id','Labeling'])[['id','Labeling','time_from_begin']].rename(columns={'time_from_begin':'purchase_page_reach_time'})\n",
    "raw_all = raw_all.merge(time_from_begin[time_from_begin['Labeling']==21][['id','purchase_page_reach_time']],on='id',how='left')"
   ]
  },
  {
   "cell_type": "code",
   "execution_count": 67,
   "metadata": {},
   "outputs": [],
   "source": [
    "# 생성된 체류시간 칼럼들의 dtype은 모두 timedelta\n",
    "# 분석의 편의성을 위해 해당 칼럼들을 모두 초 단위로 float 자료형으로 변환\n",
    "raw_all['time_from_begin'] = raw_all['time_from_begin'].astype('timedelta64[s]')\n",
    "raw_all['purchase_page_reach_time'] = raw_all['purchase_page_reach_time'].astype('timedelta64[s]')"
   ]
  },
  {
   "cell_type": "markdown",
   "metadata": {},
   "source": [
    "## 4.3. Recursion (특정 라벨 반복) 수"
   ]
  },
  {
   "cell_type": "code",
   "execution_count": 68,
   "metadata": {
    "scrolled": true
   },
   "outputs": [],
   "source": [
    "# recursion_4 (해당 세션 내 4번 라벨 반복 수) 칼럼 생성\n",
    "recursion_4 = raw_all.groupby(['id','Labeling'])['prev_Labeling'].value_counts().unstack()[4].unstack()[4]\n",
    "raw_all = raw_all.merge(pd.DataFrame(recursion_4).rename(columns={4:'recursion_4'}),on='id',how='left')"
   ]
  },
  {
   "cell_type": "code",
   "execution_count": 69,
   "metadata": {},
   "outputs": [],
   "source": [
    "# recursion_5 (해당 세션 내 5번 라벨 반복 수) 칼럼 생성\n",
    "recursion_5 = raw_all.groupby(['id','Labeling'])['prev_Labeling'].value_counts().unstack()[5].unstack()[5]\n",
    "raw_all = raw_all.merge(pd.DataFrame(recursion_5).rename(columns={5:'recursion_5'}),on='id',how='left')"
   ]
  },
  {
   "cell_type": "code",
   "execution_count": 70,
   "metadata": {},
   "outputs": [],
   "source": [
    "# recursion_6 (해당 세션 내 6번 라벨 반복 수) 칼럼 생성\n",
    "recursion_6 = raw_all.groupby(['id','Labeling'])['prev_Labeling'].value_counts().unstack()[6].unstack()[6]\n",
    "raw_all = raw_all.merge(pd.DataFrame(recursion_6).rename(columns={6:'recursion_6'}),on='id',how='left')"
   ]
  },
  {
   "cell_type": "code",
   "execution_count": 71,
   "metadata": {},
   "outputs": [],
   "source": [
    "# recursion_8 (해당 세션 내 8번 라벨 반복 수) 칼럼 생성\n",
    "recursion_8 = raw_all.groupby(['id','Labeling'])['prev_Labeling'].value_counts().unstack()[8].unstack()[8]\n",
    "raw_all = raw_all.merge(pd.DataFrame(recursion_8).rename(columns={8:'recursion_8'}),on='id',how='left')"
   ]
  },
  {
   "cell_type": "markdown",
   "metadata": {},
   "source": [
    "## 4.4. Cart / Like / Purchase 수"
   ]
  },
  {
   "cell_type": "code",
   "execution_count": 72,
   "metadata": {},
   "outputs": [],
   "source": [
    "# cart_add_num (해당 세션 내에 cart action의 수) 칼럼 추가\n",
    "# like_add_num (해당 세션 내에 like action의 수) 칼럼 추가\n",
    "# purchase_num (해당 세션 내에 purchase action의 수) 칼럼 추가\n",
    "raw_all = raw_all.merge(pd.DataFrame(raw_all.groupby('id')['cart_event_ymdt'].count()).rename(columns={'cart_event_ymdt':'cart_add_num'}),on='id',how='left')\n",
    "raw_all = raw_all.merge(pd.DataFrame(raw_all.groupby('id')['like_keep_reg_ymdt'].count()).rename(columns={'like_keep_reg_ymdt':'like_add_num'}),on='id',how='left')\n",
    "raw_all = raw_all.merge(pd.DataFrame(raw_all.groupby('id')['purchase_order_ymdt'].count()).rename(columns={'purchase_order_ymdt':'purchase_num'}),on='id',how='left')"
   ]
  },
  {
   "cell_type": "markdown",
   "metadata": {},
   "source": [
    "## 4.5. 세션 내 특정 라벨 관련 feature"
   ]
  },
  {
   "cell_type": "code",
   "execution_count": 73,
   "metadata": {},
   "outputs": [],
   "source": [
    "# session_begin_label (해당 세션의 첫번째 로그의 라벨) 칼럼 추가\n",
    "raw_all = raw_all.merge(raw_all.drop_duplicates(subset='id',keep='first')[['id','Labeling']].rename(columns={'Labeling':'session_begin_label'}),on='id',how='left')"
   ]
  },
  {
   "cell_type": "code",
   "execution_count": 74,
   "metadata": {},
   "outputs": [],
   "source": [
    "# session_end_label (해당 세션의 마지막 로그의 라벨) 칼럼 추가\n",
    "raw_all = raw_all.merge(raw_all.drop_duplicates(subset='id',keep='last')[['id','Labeling']].rename(columns={'Labeling':'session_end_label'}),on='id',how='left')"
   ]
  },
  {
   "cell_type": "code",
   "execution_count": 75,
   "metadata": {},
   "outputs": [],
   "source": [
    "# review_page_num (해당 세션에 7번 라벨 로그가 몇 개 있는지) 칼럼 추가\n",
    "review_page_num = pd.DataFrame(raw_all.groupby('id')['Labeling'].value_counts().unstack()[7]).rename(columns={7:'review_page_num'})\n",
    "raw_all = raw_all.merge(review_page_num,on='id',how='left')"
   ]
  },
  {
   "cell_type": "code",
   "execution_count": 76,
   "metadata": {},
   "outputs": [
    {
     "data": {
      "text/plain": [
       "(4946055, 65)"
      ]
     },
     "execution_count": 76,
     "metadata": {},
     "output_type": "execute_result"
    }
   ],
   "source": [
    "raw_all.shape"
   ]
  },
  {
   "cell_type": "code",
   "execution_count": 77,
   "metadata": {},
   "outputs": [
    {
     "data": {
      "text/plain": [
       "Index(['datetime', 'user_id', 'sex', 'age', 'url', 'device', 'page',\n",
       "       'Labeling', 'session', 'id', 'page_stay_time', 'session_length',\n",
       "       'session_nth', 'prev_Labeling', 'prev_page', 'begin_time', 'end_time',\n",
       "       'cart_prod_no', 'cart_prod_nm', 'cart_event_type', 'cart_event_ymdt',\n",
       "       'cart_catg_nm_l', 'cart_catg_nm_m', 'cart_catg_nm_s',\n",
       "       'log_cart_time_diff', 'like_keep_stat_cd', 'like_prod_no',\n",
       "       'like_prod_nm', 'like_keep_reg_ymdt', 'like_catg_nm_l',\n",
       "       'like_catg_nm_m', 'like_catg_nm_s', 'log_like_time_diff',\n",
       "       'purchase_prod_order_no', 'purchase_order_no', 'purchase_order_ymdt',\n",
       "       'purchase_prod_no', 'purchase_prod_nm', 'purchase_gmv', 'purchase_flag',\n",
       "       'purchase_catg_nm_l', 'purchase_catg_nm_m', 'purchase_catg_nm_s',\n",
       "       'log_purchase_time_diff', 'cart_id', 'like_id', 'purchase_id',\n",
       "       'distinct_page_num', 'distinct_label_num', 'max_page_stay_time',\n",
       "       'min_page_stay_time', 'mean_page_stay_time', 'session_stay_time',\n",
       "       'time_from_begin', 'purchase_page_reach_time', 'recursion_4',\n",
       "       'recursion_5', 'recursion_6', 'recursion_8', 'cart_add_num',\n",
       "       'like_add_num', 'purchase_num', 'session_begin_label',\n",
       "       'session_end_label', 'review_page_num'],\n",
       "      dtype='object')"
      ]
     },
     "execution_count": 77,
     "metadata": {},
     "output_type": "execute_result"
    }
   ],
   "source": [
    "raw_all.columns"
   ]
  },
  {
   "cell_type": "markdown",
   "metadata": {},
   "source": [
    "# 5. 검색/탐색 유입 구분"
   ]
  },
  {
   "cell_type": "markdown",
   "metadata": {},
   "source": [
    "## 5.1. 검색유입 구분"
   ]
  },
  {
   "cell_type": "code",
   "execution_count": 78,
   "metadata": {},
   "outputs": [],
   "source": [
    "# is_query_page(url에 'query'가 들어가 있는지 여부) 칼럼 생성\n",
    "raw_all['is_query_page'] = raw_all['url'].apply(lambda x: 'query' in x)"
   ]
  },
  {
   "cell_type": "code",
   "execution_count": 79,
   "metadata": {},
   "outputs": [
    {
     "name": "stderr",
     "output_type": "stream",
     "text": [
      "/home/jipal28/anaconda3/lib/python3.9/site-packages/pandas/core/computation/expressions.py:214: UserWarning: evaluating in Python space because the '*' operator is not supported by numexpr for the bool dtype, use '&' instead.\n",
      "  warnings.warn(\n"
     ]
    }
   ],
   "source": [
    "# 검색 유입 기준 : 세션 시작 후 30초 이내 & 2번째 로그 이내에 query_page 등장\n",
    "# under_30sec(세션 시작 후 30초 이내인지) 칼럼 생성\n",
    "# under_2th(세션 시작 후 2번째 이내 로그인지) 칼럼 생성\n",
    "# search_in_log(세션 시작 후 30초 이내 & 2번째 로그 이내 & query page) 칼럼 생성\n",
    "raw_all['under_30sec'] = pd.to_timedelta(raw_all['time_from_begin'],unit='s')<=pd.Timedelta(seconds=30)\n",
    "raw_all['under_2th'] = raw_all['session_nth']<=2\n",
    "raw_all['search_in_log'] = raw_all['under_30sec'] * raw_all['under_2th'] * raw_all['is_query_page']"
   ]
  },
  {
   "cell_type": "code",
   "execution_count": 80,
   "metadata": {},
   "outputs": [],
   "source": [
    "# search_in(해당 세션이 검색 유입 세션인지) 칼럼 생성\n",
    "raw_all = raw_all.merge(pd.DataFrame(raw_all.groupby('id')['search_in_log'].sum().gt(0)).astype(float).rename(columns={'search_in_log':'search_in'}),on='id',how='left')"
   ]
  },
  {
   "cell_type": "code",
   "execution_count": 81,
   "metadata": {},
   "outputs": [],
   "source": [
    "# 더 이상 쓰지 않을 칼럼들 drop\n",
    "raw_all.drop(['under_30sec','under_2th','search_in_log'],axis=1,inplace=True)"
   ]
  },
  {
   "cell_type": "code",
   "execution_count": 82,
   "metadata": {},
   "outputs": [
    {
     "data": {
      "text/plain": [
       "(4946055, 67)"
      ]
     },
     "execution_count": 82,
     "metadata": {},
     "output_type": "execute_result"
    }
   ],
   "source": [
    "raw_all.shape"
   ]
  },
  {
   "cell_type": "code",
   "execution_count": 83,
   "metadata": {},
   "outputs": [
    {
     "data": {
      "text/plain": [
       "0.0    252550\n",
       "1.0     99357\n",
       "Name: search_in, dtype: int64"
      ]
     },
     "execution_count": 83,
     "metadata": {},
     "output_type": "execute_result"
    }
   ],
   "source": [
    "raw_all.drop_duplicates('id')['search_in'].value_counts()"
   ]
  },
  {
   "cell_type": "markdown",
   "metadata": {},
   "source": [
    "## 5.2. 탐색유입 구분"
   ]
  },
  {
   "cell_type": "code",
   "execution_count": 84,
   "metadata": {},
   "outputs": [],
   "source": [
    "# 탐색 유입 기준 : 검색유입을 제외한 세션 중, 결제/배송 로그만으로 이루어진 세션들을 제외한 나머지 세션\n",
    "# is_trans_revisit(결제/배송에 해당하는 페이지를 방문한 로그인지 여부) 칼럼 생성\n",
    "trans_revisit = [15, 21, 22, 23,17, 18, 19, 20, 25, 26]\n",
    "raw_all['is_trans_revisit'] = raw_all['Labeling'].apply(lambda x: x in trans_revisit)"
   ]
  },
  {
   "cell_type": "code",
   "execution_count": 85,
   "metadata": {},
   "outputs": [],
   "source": [
    "# trans_revisit_sum(해당 세션 내의 trans_revisit 로그 개수) 칼럼 생성\n",
    "raw_all = raw_all.merge(pd.DataFrame(raw_all.groupby('id')['is_trans_revisit'].sum()).rename(columns={'is_trans_revisit':'trans_revisit_sum'}),on='id',how='left')"
   ]
  },
  {
   "cell_type": "code",
   "execution_count": 86,
   "metadata": {},
   "outputs": [],
   "source": [
    "# trans_revisit(해당 세션이 결제/배송 로그만으로 이루어진 세션인지 여부) 칼럼 생성\n",
    "# 해당 칼럼 계산 시, 결제/배송 로그만으로 이루어진 세션 중 검색유입 세션(9개 존재)은 제외\n",
    "raw_all['trans_revisit'] = (raw_all['trans_revisit_sum'] == raw_all['session_length']).astype(float) * (1-raw_all['search_in'])"
   ]
  },
  {
   "cell_type": "code",
   "execution_count": 87,
   "metadata": {},
   "outputs": [
    {
     "data": {
      "text/html": [
       "<div>\n",
       "<style scoped>\n",
       "    .dataframe tbody tr th:only-of-type {\n",
       "        vertical-align: middle;\n",
       "    }\n",
       "\n",
       "    .dataframe tbody tr th {\n",
       "        vertical-align: top;\n",
       "    }\n",
       "\n",
       "    .dataframe thead th {\n",
       "        text-align: right;\n",
       "    }\n",
       "</style>\n",
       "<table border=\"1\" class=\"dataframe\">\n",
       "  <thead>\n",
       "    <tr style=\"text-align: right;\">\n",
       "      <th>search_in</th>\n",
       "      <th>0.0</th>\n",
       "      <th>1.0</th>\n",
       "    </tr>\n",
       "    <tr>\n",
       "      <th>trans_revisit</th>\n",
       "      <th></th>\n",
       "      <th></th>\n",
       "    </tr>\n",
       "  </thead>\n",
       "  <tbody>\n",
       "    <tr>\n",
       "      <th>0.0</th>\n",
       "      <td>228547.0</td>\n",
       "      <td>99357.0</td>\n",
       "    </tr>\n",
       "    <tr>\n",
       "      <th>1.0</th>\n",
       "      <td>24003.0</td>\n",
       "      <td>NaN</td>\n",
       "    </tr>\n",
       "  </tbody>\n",
       "</table>\n",
       "</div>"
      ],
      "text/plain": [
       "search_in           0.0      1.0\n",
       "trans_revisit                   \n",
       "0.0            228547.0  99357.0\n",
       "1.0             24003.0      NaN"
      ]
     },
     "execution_count": 87,
     "metadata": {},
     "output_type": "execute_result"
    }
   ],
   "source": [
    "raw_all.drop_duplicates('id').groupby('trans_revisit')['search_in'].value_counts().unstack()"
   ]
  },
  {
   "cell_type": "code",
   "execution_count": 88,
   "metadata": {},
   "outputs": [],
   "source": [
    "# 더 이상 쓰지 않을 칼럼들 drop\n",
    "raw_all.drop(['is_trans_revisit','trans_revisit_sum'],axis=1,inplace=True)"
   ]
  },
  {
   "cell_type": "code",
   "execution_count": 89,
   "metadata": {},
   "outputs": [],
   "source": [
    "# in_type (검색유입/탐색유입/결제배송 종 어디에 해당하는 세션인지) 칼럼 생성\n",
    "def compute_in_type(x):\n",
    "    if x==2:\n",
    "        return '검색유입'\n",
    "    elif x==1:\n",
    "        return '결제/배송'\n",
    "    elif x==0:\n",
    "        return '탐색유입'\n",
    "    else:\n",
    "        return np.nan\n",
    "\n",
    "raw_all['in_type'] = (raw_all['search_in']*2 + raw_all['trans_revisit']).apply(lambda x: compute_in_type(x))"
   ]
  },
  {
   "cell_type": "code",
   "execution_count": 90,
   "metadata": {},
   "outputs": [
    {
     "data": {
      "text/html": [
       "<div>\n",
       "<style scoped>\n",
       "    .dataframe tbody tr th:only-of-type {\n",
       "        vertical-align: middle;\n",
       "    }\n",
       "\n",
       "    .dataframe tbody tr th {\n",
       "        vertical-align: top;\n",
       "    }\n",
       "\n",
       "    .dataframe thead th {\n",
       "        text-align: right;\n",
       "    }\n",
       "</style>\n",
       "<table border=\"1\" class=\"dataframe\">\n",
       "  <thead>\n",
       "    <tr style=\"text-align: right;\">\n",
       "      <th></th>\n",
       "      <th>in_type</th>\n",
       "    </tr>\n",
       "  </thead>\n",
       "  <tbody>\n",
       "    <tr>\n",
       "      <th>탐색유입</th>\n",
       "      <td>228547</td>\n",
       "    </tr>\n",
       "    <tr>\n",
       "      <th>검색유입</th>\n",
       "      <td>99357</td>\n",
       "    </tr>\n",
       "    <tr>\n",
       "      <th>결제/배송</th>\n",
       "      <td>24003</td>\n",
       "    </tr>\n",
       "  </tbody>\n",
       "</table>\n",
       "</div>"
      ],
      "text/plain": [
       "       in_type\n",
       "탐색유입    228547\n",
       "검색유입     99357\n",
       "결제/배송    24003"
      ]
     },
     "execution_count": 90,
     "metadata": {},
     "output_type": "execute_result"
    }
   ],
   "source": [
    "pd.DataFrame(raw_all.drop_duplicates('id')['in_type'].value_counts())"
   ]
  },
  {
   "cell_type": "code",
   "execution_count": 91,
   "metadata": {},
   "outputs": [],
   "source": [
    "# 더 이상 쓰지 않을 칼럼들 drop\n",
    "raw_all.drop(['search_in','trans_revisit'],axis=1,inplace=True)"
   ]
  },
  {
   "cell_type": "code",
   "execution_count": 92,
   "metadata": {},
   "outputs": [
    {
     "data": {
      "text/plain": [
       "(4946055, 67)"
      ]
     },
     "execution_count": 92,
     "metadata": {},
     "output_type": "execute_result"
    }
   ],
   "source": [
    "raw_all.shape"
   ]
  },
  {
   "cell_type": "code",
   "execution_count": 93,
   "metadata": {},
   "outputs": [
    {
     "data": {
      "text/plain": [
       "Index(['datetime', 'user_id', 'sex', 'age', 'url', 'device', 'page',\n",
       "       'Labeling', 'session', 'id', 'page_stay_time', 'session_length',\n",
       "       'session_nth', 'prev_Labeling', 'prev_page', 'begin_time', 'end_time',\n",
       "       'cart_prod_no', 'cart_prod_nm', 'cart_event_type', 'cart_event_ymdt',\n",
       "       'cart_catg_nm_l', 'cart_catg_nm_m', 'cart_catg_nm_s',\n",
       "       'log_cart_time_diff', 'like_keep_stat_cd', 'like_prod_no',\n",
       "       'like_prod_nm', 'like_keep_reg_ymdt', 'like_catg_nm_l',\n",
       "       'like_catg_nm_m', 'like_catg_nm_s', 'log_like_time_diff',\n",
       "       'purchase_prod_order_no', 'purchase_order_no', 'purchase_order_ymdt',\n",
       "       'purchase_prod_no', 'purchase_prod_nm', 'purchase_gmv', 'purchase_flag',\n",
       "       'purchase_catg_nm_l', 'purchase_catg_nm_m', 'purchase_catg_nm_s',\n",
       "       'log_purchase_time_diff', 'cart_id', 'like_id', 'purchase_id',\n",
       "       'distinct_page_num', 'distinct_label_num', 'max_page_stay_time',\n",
       "       'min_page_stay_time', 'mean_page_stay_time', 'session_stay_time',\n",
       "       'time_from_begin', 'purchase_page_reach_time', 'recursion_4',\n",
       "       'recursion_5', 'recursion_6', 'recursion_8', 'cart_add_num',\n",
       "       'like_add_num', 'purchase_num', 'session_begin_label',\n",
       "       'session_end_label', 'review_page_num', 'is_query_page', 'in_type'],\n",
       "      dtype='object')"
      ]
     },
     "execution_count": 93,
     "metadata": {},
     "output_type": "execute_result"
    }
   ],
   "source": [
    "raw_all.columns"
   ]
  },
  {
   "cell_type": "markdown",
   "metadata": {},
   "source": [
    "# 6. csv 파일로 저장 & 메모리 최적화 후 pickle 파일로 저장"
   ]
  },
  {
   "cell_type": "code",
   "execution_count": 94,
   "metadata": {},
   "outputs": [],
   "source": [
    "# 전체 데이터를 csv 파일 형태로 저장\n",
    "raw_all.to_csv(os.path.join(os.getcwd(),'final_log(cart buy zzim).csv'),index=False)"
   ]
  },
  {
   "cell_type": "code",
   "execution_count": 8,
   "metadata": {},
   "outputs": [],
   "source": [
    "def mem_usage(pandas_obj):\n",
    "    if isinstance(pandas_obj,pd.DataFrame):\n",
    "        usage_b = pandas_obj.memory_usage(deep=True).sum()\n",
    "    else: # we assume if not a df it's a series\n",
    "        usage_b = pandas_obj.memory_usage(deep=True)\n",
    "    usage_mb = usage_b / 1024 ** 2 # convert bytes to megabytes\n",
    "    return \"{:03.2f} MB\".format(usage_mb)"
   ]
  },
  {
   "cell_type": "code",
   "execution_count": 96,
   "metadata": {},
   "outputs": [
    {
     "data": {
      "text/plain": [
       "'9760.81 MB'"
      ]
     },
     "execution_count": 96,
     "metadata": {},
     "output_type": "execute_result"
    }
   ],
   "source": [
    "mem_usage(raw_all)"
   ]
  },
  {
   "cell_type": "code",
   "execution_count": 9,
   "metadata": {},
   "outputs": [],
   "source": [
    "def int_memory_reduce(data) :\n",
    "    data_int = data.select_dtypes(include=['int'])\n",
    "    converted_int = data_int.apply(pd.to_numeric,downcast='unsigned')\n",
    "    print(f\"Before : {mem_usage(data_int)} -> After : {mem_usage(converted_int)}\")\n",
    "    data[converted_int.columns] = converted_int\n",
    "    return data\n",
    "\n",
    "## 연속형 데이터 사이즈 축소 함소\n",
    "def float_memory_reduce(data) :\n",
    "    data_float = data.select_dtypes(include=['float'])\n",
    "    converted_float = data_float.apply(pd.to_numeric,downcast='float')\n",
    "    print(f\"Before : {mem_usage(data_float)} -> After : {mem_usage(converted_float)}\")\n",
    "    data[converted_float.columns] = converted_float\n",
    "    return data\n",
    "\n",
    "## 문자형 데이터 사이즈 축소 함소\n",
    "def object_memory_reduce(data) :\n",
    "    gl_obj = data.select_dtypes(include=['object']).copy()\n",
    "    converted_obj = pd.DataFrame()\n",
    "    for col in gl_obj.columns:\n",
    "        num_unique_values = len(gl_obj[col].unique())\n",
    "        num_total_values = len(gl_obj[col])\n",
    "        if num_unique_values / num_total_values < 0.5:\n",
    "            converted_obj.loc[:,col] = gl_obj[col].astype('category')\n",
    "        else:\n",
    "            converted_obj.loc[:,col] = gl_obj[col]\n",
    "    print(f\"Before : {mem_usage(gl_obj)} -> After : {mem_usage(converted_obj)}\")\n",
    "    data[converted_obj.columns] = converted_obj\n",
    "    return data"
   ]
  },
  {
   "cell_type": "code",
   "execution_count": 98,
   "metadata": {},
   "outputs": [
    {
     "name": "stderr",
     "output_type": "stream",
     "text": [
      "/tmp/ipykernel_5209/1932203267.py:3: FutureWarning: The default dtype for empty Series will be 'object' instead of 'float64' in a future version. Specify a dtype explicitly to silence this warning.\n",
      "  usage_b = pandas_obj.memory_usage(deep=True).sum()\n",
      "/tmp/ipykernel_5209/1932203267.py:3: FutureWarning: The default dtype for empty Series will be 'object' instead of 'float64' in a future version. Specify a dtype explicitly to silence this warning.\n",
      "  usage_b = pandas_obj.memory_usage(deep=True).sum()\n"
     ]
    },
    {
     "name": "stdout",
     "output_type": "stream",
     "text": [
      "Before : 37.74 MB -> After : 37.74 MB\n",
      "Before : 943.39 MB -> After : 490.56 MB\n",
      "Before : 8232.66 MB -> After : 1256.21 MB\n"
     ]
    }
   ],
   "source": [
    "raw_all2 = raw_all.copy()\n",
    "raw_all2 = int_memory_reduce(raw_all2)\n",
    "raw_all2 = float_memory_reduce(raw_all2)\n",
    "raw_all2 = object_memory_reduce(raw_all2)"
   ]
  },
  {
   "cell_type": "code",
   "execution_count": 99,
   "metadata": {},
   "outputs": [
    {
     "data": {
      "text/plain": [
       "'2392.99 MB'"
      ]
     },
     "execution_count": 99,
     "metadata": {},
     "output_type": "execute_result"
    }
   ],
   "source": [
    "mem_usage(raw_all2)"
   ]
  },
  {
   "cell_type": "code",
   "execution_count": 100,
   "metadata": {},
   "outputs": [],
   "source": [
    "raw_all2.to_pickle(os.path.join(os.getcwd(),'final_log(cart buy zzim).pkl'))"
   ]
  },
  {
   "cell_type": "markdown",
   "metadata": {},
   "source": [
    "# 7. 길이 50 이하 세션만 남기기"
   ]
  },
  {
   "cell_type": "code",
   "execution_count": 3,
   "metadata": {},
   "outputs": [
    {
     "name": "stderr",
     "output_type": "stream",
     "text": [
      "/tmp/ipykernel_2948/2580486793.py:1: DtypeWarning: Columns (25,27,28,29,30,31,36) have mixed types. Specify dtype option on import or set low_memory=False.\n",
      "  raw_all = pd.read_csv(os.path.join(os.getcwd(),'final_log(cart buy zzim).csv'))\n"
     ]
    }
   ],
   "source": [
    "raw_all = pd.read_csv(os.path.join(os.getcwd(),'final_log(cart buy zzim).csv'))"
   ]
  },
  {
   "cell_type": "code",
   "execution_count": 5,
   "metadata": {},
   "outputs": [],
   "source": [
    "raw_all_under50 = raw_all[raw_all['session_length']<=50]"
   ]
  },
  {
   "cell_type": "code",
   "execution_count": 7,
   "metadata": {},
   "outputs": [],
   "source": [
    "raw_all_under50.to_csv(os.path.join(os.getcwd(),'final_log(cart buy zzim)_under50.csv'),index=False)"
   ]
  },
  {
   "cell_type": "code",
   "execution_count": 10,
   "metadata": {},
   "outputs": [
    {
     "data": {
      "text/plain": [
       "'7547.21 MB'"
      ]
     },
     "execution_count": 10,
     "metadata": {},
     "output_type": "execute_result"
    }
   ],
   "source": [
    "mem_usage(raw_all_under50)"
   ]
  },
  {
   "cell_type": "code",
   "execution_count": 12,
   "metadata": {},
   "outputs": [
    {
     "name": "stdout",
     "output_type": "stream",
     "text": [
      "Before : 359.19 MB -> After : 72.53 MB\n",
      "Before : 690.75 MB -> After : 359.19 MB\n",
      "Before : 6874.22 MB -> After : 1310.79 MB\n"
     ]
    }
   ],
   "source": [
    "raw_all_under50_small = raw_all_under50.copy()\n",
    "raw_all_under50_small = int_memory_reduce(raw_all_under50_small)\n",
    "raw_all_under50_small = float_memory_reduce(raw_all_under50_small)\n",
    "raw_all_under50_small = object_memory_reduce(raw_all_under50_small)"
   ]
  },
  {
   "cell_type": "code",
   "execution_count": 13,
   "metadata": {},
   "outputs": [
    {
     "data": {
      "text/plain": [
       "'1690.70 MB'"
      ]
     },
     "execution_count": 13,
     "metadata": {},
     "output_type": "execute_result"
    }
   ],
   "source": [
    "mem_usage(raw_all_under50_small)"
   ]
  },
  {
   "cell_type": "code",
   "execution_count": 14,
   "metadata": {},
   "outputs": [],
   "source": [
    "raw_all_under50_small.to_pickle(os.path.join(os.getcwd(),'final_log(cart buy zzim)_under50.pkl'))"
   ]
  }
 ],
 "metadata": {
  "colab": {
   "name": "preprocess_summary.ipynb",
   "provenance": []
  },
  "kernelspec": {
   "display_name": "Python 3 (ipykernel)",
   "language": "python",
   "name": "python3"
  },
  "language_info": {
   "codemirror_mode": {
    "name": "ipython",
    "version": 3
   },
   "file_extension": ".py",
   "mimetype": "text/x-python",
   "name": "python",
   "nbconvert_exporter": "python",
   "pygments_lexer": "ipython3",
   "version": "3.9.12"
  }
 },
 "nbformat": 4,
 "nbformat_minor": 1
}
